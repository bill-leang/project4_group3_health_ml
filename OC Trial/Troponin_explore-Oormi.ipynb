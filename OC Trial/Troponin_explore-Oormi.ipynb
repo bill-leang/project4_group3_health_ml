{
 "cells": [
  {
   "cell_type": "markdown",
   "metadata": {},
   "source": [
    "# Real Heart Attack Data Exploration"
   ]
  },
  {
   "cell_type": "code",
   "execution_count": 1,
   "metadata": {},
   "outputs": [
    {
     "name": "stderr",
     "output_type": "stream",
     "text": [
      "C:\\Users\\Oormi\\anaconda3\\lib\\site-packages\\scipy\\__init__.py:146: UserWarning: A NumPy version >=1.16.5 and <1.23.0 is required for this version of SciPy (detected version 1.26.3\n",
      "  warnings.warn(f\"A NumPy version >={np_minversion} and <{np_maxversion}\"\n"
     ]
    }
   ],
   "source": [
    "# Initial imports\n",
    "import pandas as pd\n",
    "from pathlib import Path\n",
    "import numpy as np\n",
    "from sklearn.ensemble import RandomForestClassifier\n",
    "from sklearn.preprocessing import StandardScaler\n",
    "from sklearn.model_selection import train_test_split\n",
    "from sklearn.metrics import confusion_matrix, accuracy_score, classification_report\n",
    "from scipy import stats\n",
    "%matplotlib inline\n",
    "\n"
   ]
  },
  {
   "cell_type": "markdown",
   "metadata": {},
   "source": [
    "## Loading and Preprocessing Heart Attack Data"
   ]
  },
  {
   "cell_type": "code",
   "execution_count": 2,
   "metadata": {},
   "outputs": [
    {
     "data": {
      "text/html": [
       "<div>\n",
       "<style scoped>\n",
       "    .dataframe tbody tr th:only-of-type {\n",
       "        vertical-align: middle;\n",
       "    }\n",
       "\n",
       "    .dataframe tbody tr th {\n",
       "        vertical-align: top;\n",
       "    }\n",
       "\n",
       "    .dataframe thead th {\n",
       "        text-align: right;\n",
       "    }\n",
       "</style>\n",
       "<table border=\"1\" class=\"dataframe\">\n",
       "  <thead>\n",
       "    <tr style=\"text-align: right;\">\n",
       "      <th></th>\n",
       "      <th>Age</th>\n",
       "      <th>Gender</th>\n",
       "      <th>Heart rate</th>\n",
       "      <th>Systolic blood pressure</th>\n",
       "      <th>Diastolic blood pressure</th>\n",
       "      <th>Blood sugar</th>\n",
       "      <th>CK-MB</th>\n",
       "      <th>Troponin</th>\n",
       "      <th>Result</th>\n",
       "    </tr>\n",
       "  </thead>\n",
       "  <tbody>\n",
       "    <tr>\n",
       "      <th>0</th>\n",
       "      <td>64</td>\n",
       "      <td>1</td>\n",
       "      <td>66</td>\n",
       "      <td>160</td>\n",
       "      <td>83</td>\n",
       "      <td>160.0</td>\n",
       "      <td>1.80</td>\n",
       "      <td>0.012</td>\n",
       "      <td>negative</td>\n",
       "    </tr>\n",
       "    <tr>\n",
       "      <th>1</th>\n",
       "      <td>21</td>\n",
       "      <td>1</td>\n",
       "      <td>94</td>\n",
       "      <td>98</td>\n",
       "      <td>46</td>\n",
       "      <td>296.0</td>\n",
       "      <td>6.75</td>\n",
       "      <td>1.060</td>\n",
       "      <td>positive</td>\n",
       "    </tr>\n",
       "    <tr>\n",
       "      <th>2</th>\n",
       "      <td>55</td>\n",
       "      <td>1</td>\n",
       "      <td>64</td>\n",
       "      <td>160</td>\n",
       "      <td>77</td>\n",
       "      <td>270.0</td>\n",
       "      <td>1.99</td>\n",
       "      <td>0.003</td>\n",
       "      <td>negative</td>\n",
       "    </tr>\n",
       "    <tr>\n",
       "      <th>3</th>\n",
       "      <td>64</td>\n",
       "      <td>1</td>\n",
       "      <td>70</td>\n",
       "      <td>120</td>\n",
       "      <td>55</td>\n",
       "      <td>270.0</td>\n",
       "      <td>13.87</td>\n",
       "      <td>0.122</td>\n",
       "      <td>positive</td>\n",
       "    </tr>\n",
       "    <tr>\n",
       "      <th>4</th>\n",
       "      <td>55</td>\n",
       "      <td>1</td>\n",
       "      <td>64</td>\n",
       "      <td>112</td>\n",
       "      <td>65</td>\n",
       "      <td>300.0</td>\n",
       "      <td>1.08</td>\n",
       "      <td>0.003</td>\n",
       "      <td>negative</td>\n",
       "    </tr>\n",
       "  </tbody>\n",
       "</table>\n",
       "</div>"
      ],
      "text/plain": [
       "   Age  Gender  Heart rate  Systolic blood pressure  Diastolic blood pressure  \\\n",
       "0   64       1          66                      160                        83   \n",
       "1   21       1          94                       98                        46   \n",
       "2   55       1          64                      160                        77   \n",
       "3   64       1          70                      120                        55   \n",
       "4   55       1          64                      112                        65   \n",
       "\n",
       "   Blood sugar  CK-MB  Troponin    Result  \n",
       "0        160.0   1.80     0.012  negative  \n",
       "1        296.0   6.75     1.060  positive  \n",
       "2        270.0   1.99     0.003  negative  \n",
       "3        270.0  13.87     0.122  positive  \n",
       "4        300.0   1.08     0.003  negative  "
      ]
     },
     "execution_count": 2,
     "metadata": {},
     "output_type": "execute_result"
    }
   ],
   "source": [
    "# Loading data\n",
    "file_path = Path(\"../Resources/Medicaldataset_backup.csv\")\n",
    "df_heart = pd.read_csv(file_path)\n",
    "df_heart.head()\n"
   ]
  },
  {
   "cell_type": "code",
   "execution_count": 4,
   "metadata": {},
   "outputs": [
    {
     "data": {
      "text/plain": [
       "Age                           int64\n",
       "Gender                        int64\n",
       "Heart rate                    int64\n",
       "Systolic blood pressure       int64\n",
       "Diastolic blood pressure      int64\n",
       "Blood sugar                 float64\n",
       "CK-MB                       float64\n",
       "Troponin                    float64\n",
       "Result                       object\n",
       "dtype: object"
      ]
     },
     "execution_count": 4,
     "metadata": {},
     "output_type": "execute_result"
    }
   ],
   "source": [
    "# Check data types\n",
    "df_heart.dtypes"
   ]
  },
  {
   "cell_type": "code",
   "execution_count": 5,
   "metadata": {},
   "outputs": [
    {
     "data": {
      "text/plain": [
       "Age                         0\n",
       "Gender                      0\n",
       "Heart rate                  0\n",
       "Systolic blood pressure     0\n",
       "Diastolic blood pressure    0\n",
       "Blood sugar                 0\n",
       "CK-MB                       0\n",
       "Troponin                    0\n",
       "Result                      0\n",
       "dtype: int64"
      ]
     },
     "execution_count": 5,
     "metadata": {},
     "output_type": "execute_result"
    }
   ],
   "source": [
    "# Check for null values\n",
    "df_heart.isnull().sum()"
   ]
  },
  {
   "cell_type": "code",
   "execution_count": 10,
   "metadata": {},
   "outputs": [
    {
     "data": {
      "text/plain": [
       "0    negative\n",
       "1    positive\n",
       "2    negative\n",
       "3    positive\n",
       "4    negative\n",
       "Name: Result, dtype: object"
      ]
     },
     "execution_count": 10,
     "metadata": {},
     "output_type": "execute_result"
    }
   ],
   "source": [
    "# Define target vector\n",
    "y = df_heart[\"Result\"]\n",
    "y[:5]"
   ]
  },
  {
   "cell_type": "code",
   "execution_count": 61,
   "metadata": {},
   "outputs": [
    {
     "data": {
      "text/plain": [
       "0    0\n",
       "1    1\n",
       "2    0\n",
       "3    1\n",
       "4    0\n",
       "Name: Result_positive, dtype: uint8"
      ]
     },
     "execution_count": 61,
     "metadata": {},
     "output_type": "execute_result"
    }
   ],
   "source": [
    "# Convert cetegorical to binary variable\n",
    "y = pd.get_dummies(y, prefix='Result', drop_first=True)\n",
    "y = y['Result_positive']\n",
    "y[:5]"
   ]
  },
  {
   "cell_type": "code",
   "execution_count": 46,
   "metadata": {},
   "outputs": [
    {
     "data": {
      "text/html": [
       "<div>\n",
       "<style scoped>\n",
       "    .dataframe tbody tr th:only-of-type {\n",
       "        vertical-align: middle;\n",
       "    }\n",
       "\n",
       "    .dataframe tbody tr th {\n",
       "        vertical-align: top;\n",
       "    }\n",
       "\n",
       "    .dataframe thead th {\n",
       "        text-align: right;\n",
       "    }\n",
       "</style>\n",
       "<table border=\"1\" class=\"dataframe\">\n",
       "  <thead>\n",
       "    <tr style=\"text-align: right;\">\n",
       "      <th></th>\n",
       "      <th>Age</th>\n",
       "      <th>Gender</th>\n",
       "      <th>Heart rate</th>\n",
       "      <th>Systolic blood pressure</th>\n",
       "      <th>Diastolic blood pressure</th>\n",
       "      <th>Blood sugar</th>\n",
       "      <th>CK-MB</th>\n",
       "      <th>Troponin</th>\n",
       "    </tr>\n",
       "  </thead>\n",
       "  <tbody>\n",
       "    <tr>\n",
       "      <th>0</th>\n",
       "      <td>64</td>\n",
       "      <td>1</td>\n",
       "      <td>66</td>\n",
       "      <td>160</td>\n",
       "      <td>83</td>\n",
       "      <td>160.0</td>\n",
       "      <td>1.80</td>\n",
       "      <td>0.012</td>\n",
       "    </tr>\n",
       "    <tr>\n",
       "      <th>1</th>\n",
       "      <td>21</td>\n",
       "      <td>1</td>\n",
       "      <td>94</td>\n",
       "      <td>98</td>\n",
       "      <td>46</td>\n",
       "      <td>296.0</td>\n",
       "      <td>6.75</td>\n",
       "      <td>1.060</td>\n",
       "    </tr>\n",
       "    <tr>\n",
       "      <th>2</th>\n",
       "      <td>55</td>\n",
       "      <td>1</td>\n",
       "      <td>64</td>\n",
       "      <td>160</td>\n",
       "      <td>77</td>\n",
       "      <td>270.0</td>\n",
       "      <td>1.99</td>\n",
       "      <td>0.003</td>\n",
       "    </tr>\n",
       "    <tr>\n",
       "      <th>3</th>\n",
       "      <td>64</td>\n",
       "      <td>1</td>\n",
       "      <td>70</td>\n",
       "      <td>120</td>\n",
       "      <td>55</td>\n",
       "      <td>270.0</td>\n",
       "      <td>13.87</td>\n",
       "      <td>0.122</td>\n",
       "    </tr>\n",
       "    <tr>\n",
       "      <th>4</th>\n",
       "      <td>55</td>\n",
       "      <td>1</td>\n",
       "      <td>64</td>\n",
       "      <td>112</td>\n",
       "      <td>65</td>\n",
       "      <td>300.0</td>\n",
       "      <td>1.08</td>\n",
       "      <td>0.003</td>\n",
       "    </tr>\n",
       "  </tbody>\n",
       "</table>\n",
       "</div>"
      ],
      "text/plain": [
       "   Age  Gender  Heart rate  Systolic blood pressure  Diastolic blood pressure  \\\n",
       "0   64       1          66                      160                        83   \n",
       "1   21       1          94                       98                        46   \n",
       "2   55       1          64                      160                        77   \n",
       "3   64       1          70                      120                        55   \n",
       "4   55       1          64                      112                        65   \n",
       "\n",
       "   Blood sugar  CK-MB  Troponin  \n",
       "0        160.0   1.80     0.012  \n",
       "1        296.0   6.75     1.060  \n",
       "2        270.0   1.99     0.003  \n",
       "3        270.0  13.87     0.122  \n",
       "4        300.0   1.08     0.003  "
      ]
     },
     "execution_count": 46,
     "metadata": {},
     "output_type": "execute_result"
    }
   ],
   "source": [
    "# Define features set\n",
    "X = df_heart.copy()\n",
    "\n",
    "X.drop([\"Result\"], axis=1, inplace=True)\n",
    "X.head()"
   ]
  },
  {
   "cell_type": "code",
   "execution_count": 12,
   "metadata": {},
   "outputs": [],
   "source": [
    "# Splitting into Train and Test sets\n",
    "X_train, X_test, y_train, y_test = train_test_split(X, y, random_state=3000)"
   ]
  },
  {
   "cell_type": "code",
   "execution_count": 13,
   "metadata": {},
   "outputs": [],
   "source": [
    "# Creating StandardScaler instance\n",
    "scaler = StandardScaler()"
   ]
  },
  {
   "cell_type": "code",
   "execution_count": 14,
   "metadata": {},
   "outputs": [],
   "source": [
    "# Fitting Standard Scaller\n",
    "X_scaler = scaler.fit(X_train)"
   ]
  },
  {
   "cell_type": "code",
   "execution_count": 15,
   "metadata": {},
   "outputs": [],
   "source": [
    "# Scaling data\n",
    "X_train_scaled = X_scaler.transform(X_train)\n",
    "X_test_scaled = X_scaler.transform(X_test)"
   ]
  },
  {
   "cell_type": "markdown",
   "metadata": {},
   "source": [
    "### Fitting the Random Forest Model"
   ]
  },
  {
   "cell_type": "code",
   "execution_count": 16,
   "metadata": {},
   "outputs": [],
   "source": [
    "# Create a random forest classifier\n",
    "rf_model = RandomForestClassifier(n_estimators=1000, random_state=75)"
   ]
  },
  {
   "cell_type": "code",
   "execution_count": 17,
   "metadata": {},
   "outputs": [
    {
     "name": "stderr",
     "output_type": "stream",
     "text": [
      "C:\\Users\\Oormi\\AppData\\Local\\Temp\\ipykernel_14508\\478868177.py:2: DataConversionWarning: A column-vector y was passed when a 1d array was expected. Please change the shape of y to (n_samples,), for example using ravel().\n",
      "  rf_model = rf_model.fit(X_train_scaled, y_train)\n"
     ]
    }
   ],
   "source": [
    "# Fitting the model\n",
    "rf_model = rf_model.fit(X_train_scaled, y_train)"
   ]
  },
  {
   "cell_type": "markdown",
   "metadata": {},
   "source": [
    "### Making Predictions Using the Random Forest Model"
   ]
  },
  {
   "cell_type": "code",
   "execution_count": 18,
   "metadata": {},
   "outputs": [],
   "source": [
    "# Making predictions using the testing data\n",
    "predictions = rf_model.predict(X_test_scaled)"
   ]
  },
  {
   "cell_type": "markdown",
   "metadata": {},
   "source": [
    "### Model Evaluation"
   ]
  },
  {
   "cell_type": "code",
   "execution_count": 19,
   "metadata": {},
   "outputs": [],
   "source": [
    "# Calculating the confusion matrix\n",
    "cm = confusion_matrix(y_test, predictions)\n",
    "cm_df = pd.DataFrame(\n",
    "    cm, index=[\"Actual 0\", \"Actual 1\"], columns=[\"Predicted 0\", \"Predicted 1\"]\n",
    ")\n",
    "\n",
    "# Calculating the accuracy score\n",
    "acc_score = accuracy_score(y_test, predictions)"
   ]
  },
  {
   "cell_type": "code",
   "execution_count": 20,
   "metadata": {},
   "outputs": [
    {
     "name": "stdout",
     "output_type": "stream",
     "text": [
      "Confusion Matrix\n"
     ]
    },
    {
     "data": {
      "text/html": [
       "<div>\n",
       "<style scoped>\n",
       "    .dataframe tbody tr th:only-of-type {\n",
       "        vertical-align: middle;\n",
       "    }\n",
       "\n",
       "    .dataframe tbody tr th {\n",
       "        vertical-align: top;\n",
       "    }\n",
       "\n",
       "    .dataframe thead th {\n",
       "        text-align: right;\n",
       "    }\n",
       "</style>\n",
       "<table border=\"1\" class=\"dataframe\">\n",
       "  <thead>\n",
       "    <tr style=\"text-align: right;\">\n",
       "      <th></th>\n",
       "      <th>Predicted 0</th>\n",
       "      <th>Predicted 1</th>\n",
       "    </tr>\n",
       "  </thead>\n",
       "  <tbody>\n",
       "    <tr>\n",
       "      <th>Actual 0</th>\n",
       "      <td>118</td>\n",
       "      <td>2</td>\n",
       "    </tr>\n",
       "    <tr>\n",
       "      <th>Actual 1</th>\n",
       "      <td>4</td>\n",
       "      <td>206</td>\n",
       "    </tr>\n",
       "  </tbody>\n",
       "</table>\n",
       "</div>"
      ],
      "text/plain": [
       "          Predicted 0  Predicted 1\n",
       "Actual 0          118            2\n",
       "Actual 1            4          206"
      ]
     },
     "metadata": {},
     "output_type": "display_data"
    },
    {
     "name": "stdout",
     "output_type": "stream",
     "text": [
      "Confusion matrix Accuracy Score : 0.9818181818181818\n",
      "Classification Report\n",
      "              precision    recall  f1-score   support\n",
      "\n",
      "           0       0.97      0.98      0.98       120\n",
      "           1       0.99      0.98      0.99       210\n",
      "\n",
      "    accuracy                           0.98       330\n",
      "   macro avg       0.98      0.98      0.98       330\n",
      "weighted avg       0.98      0.98      0.98       330\n",
      "\n"
     ]
    }
   ],
   "source": [
    "# Displaying results\n",
    "print(\"Confusion Matrix\")\n",
    "display(cm_df)\n",
    "print(f\"Confusion matrix Accuracy Score : {acc_score}\")\n",
    "print(\"Classification Report\")\n",
    "print(classification_report(y_test, predictions))"
   ]
  },
  {
   "cell_type": "markdown",
   "metadata": {},
   "source": [
    "### Feature Importance"
   ]
  },
  {
   "cell_type": "code",
   "execution_count": 21,
   "metadata": {},
   "outputs": [
    {
     "data": {
      "text/plain": [
       "[(0.5935675774508986, 'Troponin'),\n",
       " (0.2565410656005502, 'CK-MB'),\n",
       " (0.04788733977266787, 'Age'),\n",
       " (0.026719847471245693, 'Blood sugar'),\n",
       " (0.02492009692657328, 'Systolic blood pressure'),\n",
       " (0.02214302155952961, 'Diastolic blood pressure'),\n",
       " (0.02058847327295095, 'Heart rate'),\n",
       " (0.007632577945583779, 'Gender')]"
      ]
     },
     "execution_count": 21,
     "metadata": {},
     "output_type": "execute_result"
    }
   ],
   "source": [
    "# Random Forests in sklearn will automatically calculate feature importance\n",
    "importances = rf_model.feature_importances_\n",
    "# We can sort the features by their importance\n",
    "sorted(zip(rf_model.feature_importances_, X.columns), reverse=True)"
   ]
  },
  {
   "cell_type": "code",
   "execution_count": 22,
   "metadata": {},
   "outputs": [
    {
     "data": {
      "text/plain": [
       "<AxesSubplot:title={'center':'Features Importances'}, ylabel='1'>"
      ]
     },
     "execution_count": 22,
     "metadata": {},
     "output_type": "execute_result"
    },
    {
     "data": {
      "image/png": "[encoded data removed]",
      "text/plain": [
       "<Figure size 432x288 with 1 Axes>"
      ]
     },
     "metadata": {
      "needs_background": "light"
     },
     "output_type": "display_data"
    }
   ],
   "source": [
    "# Visualize the features by importance\n",
    "importances_df = pd.DataFrame(sorted(zip(rf_model.feature_importances_, X.columns), reverse=True))\n",
    "importances_df.set_index(importances_df[1], inplace=True)\n",
    "importances_df.drop(columns=1, inplace=True)\n",
    "importances_df.rename(columns={0: 'Feature Importances'}, inplace=True)\n",
    "importances_sorted = importances_df.sort_values(by='Feature Importances')\n",
    "importances_sorted.plot(kind='barh', color='lightgreen', title= 'Features Importances', legend=False)"
   ]
  },
  {
   "cell_type": "markdown",
   "metadata": {},
   "source": [
    "### Random forest without troponin"
   ]
  },
  {
   "cell_type": "code",
   "execution_count": 37,
   "metadata": {},
   "outputs": [
    {
     "data": {
      "text/html": [
       "<div>\n",
       "<style scoped>\n",
       "    .dataframe tbody tr th:only-of-type {\n",
       "        vertical-align: middle;\n",
       "    }\n",
       "\n",
       "    .dataframe tbody tr th {\n",
       "        vertical-align: top;\n",
       "    }\n",
       "\n",
       "    .dataframe thead th {\n",
       "        text-align: right;\n",
       "    }\n",
       "</style>\n",
       "<table border=\"1\" class=\"dataframe\">\n",
       "  <thead>\n",
       "    <tr style=\"text-align: right;\">\n",
       "      <th></th>\n",
       "      <th>Age</th>\n",
       "      <th>Gender</th>\n",
       "      <th>Heart rate</th>\n",
       "      <th>Systolic blood pressure</th>\n",
       "      <th>Diastolic blood pressure</th>\n",
       "      <th>Blood sugar</th>\n",
       "      <th>CK-MB</th>\n",
       "    </tr>\n",
       "  </thead>\n",
       "  <tbody>\n",
       "    <tr>\n",
       "      <th>0</th>\n",
       "      <td>64</td>\n",
       "      <td>1</td>\n",
       "      <td>66</td>\n",
       "      <td>160</td>\n",
       "      <td>83</td>\n",
       "      <td>160</td>\n",
       "      <td>1</td>\n",
       "    </tr>\n",
       "    <tr>\n",
       "      <th>1</th>\n",
       "      <td>21</td>\n",
       "      <td>1</td>\n",
       "      <td>94</td>\n",
       "      <td>98</td>\n",
       "      <td>46</td>\n",
       "      <td>296</td>\n",
       "      <td>6</td>\n",
       "    </tr>\n",
       "    <tr>\n",
       "      <th>2</th>\n",
       "      <td>55</td>\n",
       "      <td>1</td>\n",
       "      <td>64</td>\n",
       "      <td>160</td>\n",
       "      <td>77</td>\n",
       "      <td>270</td>\n",
       "      <td>1</td>\n",
       "    </tr>\n",
       "    <tr>\n",
       "      <th>3</th>\n",
       "      <td>64</td>\n",
       "      <td>1</td>\n",
       "      <td>70</td>\n",
       "      <td>120</td>\n",
       "      <td>55</td>\n",
       "      <td>270</td>\n",
       "      <td>13</td>\n",
       "    </tr>\n",
       "    <tr>\n",
       "      <th>4</th>\n",
       "      <td>55</td>\n",
       "      <td>1</td>\n",
       "      <td>64</td>\n",
       "      <td>112</td>\n",
       "      <td>65</td>\n",
       "      <td>300</td>\n",
       "      <td>1</td>\n",
       "    </tr>\n",
       "  </tbody>\n",
       "</table>\n",
       "</div>"
      ],
      "text/plain": [
       "   Age  Gender  Heart rate  Systolic blood pressure  Diastolic blood pressure  \\\n",
       "0   64       1          66                      160                        83   \n",
       "1   21       1          94                       98                        46   \n",
       "2   55       1          64                      160                        77   \n",
       "3   64       1          70                      120                        55   \n",
       "4   55       1          64                      112                        65   \n",
       "\n",
       "   Blood sugar  CK-MB  \n",
       "0          160      1  \n",
       "1          296      6  \n",
       "2          270      1  \n",
       "3          270     13  \n",
       "4          300      1  "
      ]
     },
     "execution_count": 37,
     "metadata": {},
     "output_type": "execute_result"
    }
   ],
   "source": [
    "# Copy the same features dataframe and drop the tropinin column\n",
    "# How does the model perform without the troponin indicator?\n",
    "X_noTroponin = X.copy()\n",
    "X_noTroponin.drop([\"Troponin\"], axis=1, inplace=True)\n",
    "X_noTroponin.head()"
   ]
  },
  {
   "cell_type": "code",
   "execution_count": 39,
   "metadata": {},
   "outputs": [
    {
     "name": "stderr",
     "output_type": "stream",
     "text": [
      "C:\\Users\\Oormi\\AppData\\Local\\Temp\\ipykernel_14508\\1993540184.py:14: DataConversionWarning: A column-vector y was passed when a 1d array was expected. Please change the shape of y to (n_samples,), for example using ravel().\n",
      "  rf_model = rf_model.fit(X_train_scaled, y_train)\n"
     ]
    }
   ],
   "source": [
    "# Splitting into Train and Test sets\n",
    "X_train, X_test, y_train, y_test = train_test_split(X_noTroponin, y, random_state=3000)\n",
    "# Creating StandardScaler instance\n",
    "scaler = StandardScaler()\n",
    "# Fitting Standard Scaler\n",
    "X_scaler = scaler.fit(X_train)\n",
    "# Scaling data\n",
    "X_train_scaled = X_scaler.transform(X_train)\n",
    "X_test_scaled = X_scaler.transform(X_test)\n",
    "\n",
    "# Create a random forest classifier\n",
    "rf_model = RandomForestClassifier(n_estimators=1000, random_state=75)\n",
    "# Fitting the model\n",
    "rf_model = rf_model.fit(X_train_scaled, y_train)\n",
    "# Making predictions using the testing data\n",
    "predictions = rf_model.predict(X_test_scaled)"
   ]
  },
  {
   "cell_type": "code",
   "execution_count": 41,
   "metadata": {},
   "outputs": [
    {
     "name": "stdout",
     "output_type": "stream",
     "text": [
      "Confusion Matrix\n"
     ]
    },
    {
     "data": {
      "text/html": [
       "<div>\n",
       "<style scoped>\n",
       "    .dataframe tbody tr th:only-of-type {\n",
       "        vertical-align: middle;\n",
       "    }\n",
       "\n",
       "    .dataframe tbody tr th {\n",
       "        vertical-align: top;\n",
       "    }\n",
       "\n",
       "    .dataframe thead th {\n",
       "        text-align: right;\n",
       "    }\n",
       "</style>\n",
       "<table border=\"1\" class=\"dataframe\">\n",
       "  <thead>\n",
       "    <tr style=\"text-align: right;\">\n",
       "      <th></th>\n",
       "      <th>Predicted 0</th>\n",
       "      <th>Predicted 1</th>\n",
       "    </tr>\n",
       "  </thead>\n",
       "  <tbody>\n",
       "    <tr>\n",
       "      <th>Actual 0</th>\n",
       "      <td>74</td>\n",
       "      <td>46</td>\n",
       "    </tr>\n",
       "    <tr>\n",
       "      <th>Actual 1</th>\n",
       "      <td>48</td>\n",
       "      <td>162</td>\n",
       "    </tr>\n",
       "  </tbody>\n",
       "</table>\n",
       "</div>"
      ],
      "text/plain": [
       "          Predicted 0  Predicted 1\n",
       "Actual 0           74           46\n",
       "Actual 1           48          162"
      ]
     },
     "metadata": {},
     "output_type": "display_data"
    },
    {
     "name": "stdout",
     "output_type": "stream",
     "text": [
      "Confusion matrix Accuracy Score : 0.7151515151515152\n",
      "Classification Report\n",
      "              precision    recall  f1-score   support\n",
      "\n",
      "           0       0.61      0.62      0.61       120\n",
      "           1       0.78      0.77      0.78       210\n",
      "\n",
      "    accuracy                           0.72       330\n",
      "   macro avg       0.69      0.69      0.69       330\n",
      "weighted avg       0.72      0.72      0.72       330\n",
      "\n"
     ]
    }
   ],
   "source": [
    "# Calculating the confusion matrix\n",
    "cm = confusion_matrix(y_test, predictions)\n",
    "cm_df = pd.DataFrame(\n",
    "    cm, index=[\"Actual 0\", \"Actual 1\"], columns=[\"Predicted 0\", \"Predicted 1\"]\n",
    ")\n",
    "\n",
    "# Calculating the accuracy score\n",
    "acc_score = accuracy_score(y_test, predictions)\n",
    "\n",
    "# Displaying results\n",
    "print(\"Confusion Matrix\")\n",
    "display(cm_df)\n",
    "print(f\"Confusion matrix Accuracy Score : {acc_score}\")\n",
    "print(\"Classification Report\")\n",
    "print(classification_report(y_test, predictions))"
   ]
  },
  {
   "cell_type": "markdown",
   "metadata": {},
   "source": [
    "## Calculate Point-Biserial Correlation between Troponin and Heart Attack"
   ]
  },
  {
   "cell_type": "code",
   "execution_count": 62,
   "metadata": {},
   "outputs": [
    {
     "data": {
      "text/plain": [
       "PointbiserialrResult(correlation=0.22937630511968993, pvalue=3.303208528079162e-17)"
      ]
     },
     "execution_count": 62,
     "metadata": {},
     "output_type": "execute_result"
    }
   ],
   "source": [
    "x = X['Troponin']\n",
    "stats.pointbiserialr(y, x)"
   ]
  },
  {
   "cell_type": "markdown",
   "metadata": {},
   "source": [
    "The point-biserial correlation coefficient is 0.22937 (positive; good) and the corresponding p-value is 3.30321 (not significant)"
   ]
  },
  {
   "cell_type": "markdown",
   "metadata": {},
   "source": [
    "## Deep learning model"
   ]
  },
  {
   "cell_type": "code",
   "execution_count": 23,
   "metadata": {},
   "outputs": [
    {
     "name": "stdout",
     "output_type": "stream",
     "text": [
      "WARNING:tensorflow:From C:\\Users\\Oormi\\anaconda3\\lib\\site-packages\\keras\\src\\losses.py:2976: The name tf.losses.sparse_softmax_cross_entropy is deprecated. Please use tf.compat.v1.losses.sparse_softmax_cross_entropy instead.\n",
      "\n"
     ]
    },
    {
     "data": {
      "text/plain": [
       "Age                          75\n",
       "Gender                        2\n",
       "Heart rate                   79\n",
       "Systolic blood pressure     116\n",
       "Diastolic blood pressure     73\n",
       "Blood sugar                 244\n",
       "CK-MB                       700\n",
       "Troponin                    352\n",
       "dtype: int64"
      ]
     },
     "execution_count": 23,
     "metadata": {},
     "output_type": "execute_result"
    }
   ],
   "source": [
    "# Import dependencies and determine the number of unique values in each column\n",
    "import tensorflow as tf\n",
    "X.nunique()"
   ]
  },
  {
   "cell_type": "code",
   "execution_count": 47,
   "metadata": {},
   "outputs": [
    {
     "data": {
      "text/plain": [
       "Age                          75\n",
       "Gender                        2\n",
       "Heart rate                   79\n",
       "Systolic blood pressure     116\n",
       "Diastolic blood pressure     73\n",
       "Blood sugar                 243\n",
       "CK-MB                        94\n",
       "Troponin                    352\n",
       "dtype: int64"
      ]
     },
     "execution_count": 47,
     "metadata": {},
     "output_type": "execute_result"
    }
   ],
   "source": [
    "# Convert float numbers to int to reduce number of unique values\n",
    "X['Blood sugar'] = X['Blood sugar'].astype(int)\n",
    "X['CK-MB'] = X['CK-MB'].astype(int)\n",
    "X.nunique()"
   ]
  },
  {
   "cell_type": "code",
   "execution_count": 63,
   "metadata": {},
   "outputs": [],
   "source": [
    "# Splitting into Train and Test sets\n",
    "X_train, X_test, y_train, y_test = train_test_split(X, y, random_state=3000)\n",
    "# Creating StandardScaler instance\n",
    "scaler = StandardScaler()\n",
    "# Fitting Standard Scaler\n",
    "X_scaler = scaler.fit(X_train)\n",
    "# Scaling data\n",
    "X_train_scaled = X_scaler.transform(X_train)\n",
    "X_test_scaled = X_scaler.transform(X_test)"
   ]
  },
  {
   "cell_type": "code",
   "execution_count": 65,
   "metadata": {},
   "outputs": [
    {
     "name": "stdout",
     "output_type": "stream",
     "text": [
      "Model: \"sequential_4\"\n",
      "_________________________________________________________________\n",
      " Layer (type)                Output Shape              Param #   \n",
      "=================================================================\n",
      " dense_13 (Dense)            (None, 16)                144       \n",
      "                                                                 \n",
      " dense_14 (Dense)            (None, 16)                272       \n",
      "                                                                 \n",
      " dense_15 (Dense)            (None, 1)                 17        \n",
      "                                                                 \n",
      "=================================================================\n",
      "Total params: 433 (1.69 KB)\n",
      "Trainable params: 433 (1.69 KB)\n",
      "Non-trainable params: 0 (0.00 Byte)\n",
      "_________________________________________________________________\n"
     ]
    }
   ],
   "source": [
    "# Define the model - deep neural net, i.e., the number of input features and hidden nodes for each layer.\n",
    "nn = tf.keras.models.Sequential()\n",
    "\n",
    "# First hidden layer\n",
    "nn.add(tf.keras.layers.Dense(units=16, activation=\"relu\", input_dim=8))\n",
    "\n",
    "# Second hidden layer\n",
    "nn.add(tf.keras.layers.Dense(units=16, activation=\"relu\"))\n",
    "\n",
    "# Output layer\n",
    "nn.add(tf.keras.layers.Dense(units=1, activation=\"sigmoid\"))\n",
    "\n",
    "# Check the structure of the model\n",
    "nn.summary()"
   ]
  },
  {
   "cell_type": "code",
   "execution_count": 66,
   "metadata": {},
   "outputs": [],
   "source": [
    "nn.compile(loss=\"binary_crossentropy\", optimizer=\"adam\", metrics=[\"accuracy\"])"
   ]
  },
  {
   "cell_type": "code",
   "execution_count": 67,
   "metadata": {},
   "outputs": [
    {
     "name": "stdout",
     "output_type": "stream",
     "text": [
      "Epoch 1/100\n",
      "31/31 [==============================] - 1s 1ms/step - loss: 0.7582 - accuracy: 0.4115\n",
      "Epoch 2/100\n",
      "31/31 [==============================] - 0s 1ms/step - loss: 0.6753 - accuracy: 0.5763\n",
      "Epoch 3/100\n",
      "31/31 [==============================] - 0s 1ms/step - loss: 0.6380 - accuracy: 0.6714\n",
      "Epoch 4/100\n",
      "31/31 [==============================] - 0s 1ms/step - loss: 0.6157 - accuracy: 0.6835\n",
      "Epoch 5/100\n",
      "31/31 [==============================] - 0s 1ms/step - loss: 0.5992 - accuracy: 0.6886\n",
      "Epoch 6/100\n",
      "31/31 [==============================] - 0s 1ms/step - loss: 0.5837 - accuracy: 0.6967\n",
      "Epoch 7/100\n",
      "31/31 [==============================] - 0s 1ms/step - loss: 0.5694 - accuracy: 0.7037\n",
      "Epoch 8/100\n",
      "31/31 [==============================] - 0s 1ms/step - loss: 0.5546 - accuracy: 0.7098\n",
      "Epoch 9/100\n",
      "31/31 [==============================] - 0s 1ms/step - loss: 0.5420 - accuracy: 0.7219\n",
      "Epoch 10/100\n",
      "31/31 [==============================] - 0s 1ms/step - loss: 0.5298 - accuracy: 0.7371\n",
      "Epoch 11/100\n",
      "31/31 [==============================] - 0s 1ms/step - loss: 0.5188 - accuracy: 0.7462\n",
      "Epoch 12/100\n",
      "31/31 [==============================] - 0s 1ms/step - loss: 0.5090 - accuracy: 0.7412\n",
      "Epoch 13/100\n",
      "31/31 [==============================] - 0s 1ms/step - loss: 0.4983 - accuracy: 0.7594\n",
      "Epoch 14/100\n",
      "31/31 [==============================] - 0s 1ms/step - loss: 0.4883 - accuracy: 0.7624\n",
      "Epoch 15/100\n",
      "31/31 [==============================] - 0s 1ms/step - loss: 0.4799 - accuracy: 0.7624\n",
      "Epoch 16/100\n",
      "31/31 [==============================] - 0s 1ms/step - loss: 0.4715 - accuracy: 0.7664\n",
      "Epoch 17/100\n",
      "31/31 [==============================] - 0s 1ms/step - loss: 0.4630 - accuracy: 0.7765\n",
      "Epoch 18/100\n",
      "31/31 [==============================] - 0s 1ms/step - loss: 0.4557 - accuracy: 0.7796\n",
      "Epoch 19/100\n",
      "31/31 [==============================] - 0s 2ms/step - loss: 0.4495 - accuracy: 0.7765\n",
      "Epoch 20/100\n",
      "31/31 [==============================] - 0s 1ms/step - loss: 0.4432 - accuracy: 0.7856\n",
      "Epoch 21/100\n",
      "31/31 [==============================] - 0s 1ms/step - loss: 0.4361 - accuracy: 0.7897\n",
      "Epoch 22/100\n",
      "31/31 [==============================] - 0s 1ms/step - loss: 0.4295 - accuracy: 0.7917\n",
      "Epoch 23/100\n",
      "31/31 [==============================] - 0s 1ms/step - loss: 0.4246 - accuracy: 0.7856\n",
      "Epoch 24/100\n",
      "31/31 [==============================] - 0s 1ms/step - loss: 0.4198 - accuracy: 0.7998\n",
      "Epoch 25/100\n",
      "31/31 [==============================] - 0s 1ms/step - loss: 0.4147 - accuracy: 0.7897\n",
      "Epoch 26/100\n",
      "31/31 [==============================] - 0s 1ms/step - loss: 0.4125 - accuracy: 0.7988\n",
      "Epoch 27/100\n",
      "31/31 [==============================] - 0s 1ms/step - loss: 0.4052 - accuracy: 0.7998\n",
      "Epoch 28/100\n",
      "31/31 [==============================] - 0s 1ms/step - loss: 0.4024 - accuracy: 0.8049\n",
      "Epoch 29/100\n",
      "31/31 [==============================] - 0s 1ms/step - loss: 0.3998 - accuracy: 0.8059\n",
      "Epoch 30/100\n",
      "31/31 [==============================] - 0s 1ms/step - loss: 0.3932 - accuracy: 0.8140\n",
      "Epoch 31/100\n",
      "31/31 [==============================] - 0s 1ms/step - loss: 0.3901 - accuracy: 0.8099\n",
      "Epoch 32/100\n",
      "31/31 [==============================] - 0s 1ms/step - loss: 0.3871 - accuracy: 0.8140\n",
      "Epoch 33/100\n",
      "31/31 [==============================] - 0s 1ms/step - loss: 0.3837 - accuracy: 0.8150\n",
      "Epoch 34/100\n",
      "31/31 [==============================] - 0s 1ms/step - loss: 0.3813 - accuracy: 0.8140\n",
      "Epoch 35/100\n",
      "31/31 [==============================] - 0s 1ms/step - loss: 0.3772 - accuracy: 0.8251\n",
      "Epoch 36/100\n",
      "31/31 [==============================] - 0s 1ms/step - loss: 0.3754 - accuracy: 0.8180\n",
      "Epoch 37/100\n",
      "31/31 [==============================] - 0s 1ms/step - loss: 0.3711 - accuracy: 0.8281\n",
      "Epoch 38/100\n",
      "31/31 [==============================] - 0s 1ms/step - loss: 0.3683 - accuracy: 0.8261\n",
      "Epoch 39/100\n",
      "31/31 [==============================] - 0s 1ms/step - loss: 0.3652 - accuracy: 0.8311\n",
      "Epoch 40/100\n",
      "31/31 [==============================] - 0s 1ms/step - loss: 0.3621 - accuracy: 0.8261\n",
      "Epoch 41/100\n",
      "31/31 [==============================] - 0s 1ms/step - loss: 0.3603 - accuracy: 0.8281\n",
      "Epoch 42/100\n",
      "31/31 [==============================] - 0s 1ms/step - loss: 0.3570 - accuracy: 0.8251\n",
      "Epoch 43/100\n",
      "31/31 [==============================] - 0s 1ms/step - loss: 0.3526 - accuracy: 0.8352\n",
      "Epoch 44/100\n",
      "31/31 [==============================] - 0s 1ms/step - loss: 0.3548 - accuracy: 0.8342\n",
      "Epoch 45/100\n",
      "31/31 [==============================] - 0s 1ms/step - loss: 0.3514 - accuracy: 0.8332\n",
      "Epoch 46/100\n",
      "31/31 [==============================] - 0s 1ms/step - loss: 0.3471 - accuracy: 0.8332\n",
      "Epoch 47/100\n",
      "31/31 [==============================] - 0s 1ms/step - loss: 0.3473 - accuracy: 0.8382\n",
      "Epoch 48/100\n",
      "31/31 [==============================] - 0s 1ms/step - loss: 0.3422 - accuracy: 0.8342\n",
      "Epoch 49/100\n",
      "31/31 [==============================] - 0s 1ms/step - loss: 0.3411 - accuracy: 0.8352\n",
      "Epoch 50/100\n",
      "31/31 [==============================] - 0s 1ms/step - loss: 0.3380 - accuracy: 0.8382\n",
      "Epoch 51/100\n",
      "31/31 [==============================] - 0s 1ms/step - loss: 0.3372 - accuracy: 0.8332\n",
      "Epoch 52/100\n",
      "31/31 [==============================] - 0s 1ms/step - loss: 0.3357 - accuracy: 0.8402\n",
      "Epoch 53/100\n",
      "31/31 [==============================] - 0s 1ms/step - loss: 0.3323 - accuracy: 0.8372\n",
      "Epoch 54/100\n",
      "31/31 [==============================] - 0s 1ms/step - loss: 0.3299 - accuracy: 0.8402\n",
      "Epoch 55/100\n",
      "31/31 [==============================] - 0s 1ms/step - loss: 0.3283 - accuracy: 0.8382\n",
      "Epoch 56/100\n",
      "31/31 [==============================] - 0s 1ms/step - loss: 0.3296 - accuracy: 0.8443\n",
      "Epoch 57/100\n",
      "31/31 [==============================] - 0s 1ms/step - loss: 0.3256 - accuracy: 0.8493\n",
      "Epoch 58/100\n",
      "31/31 [==============================] - 0s 1ms/step - loss: 0.3240 - accuracy: 0.8463\n",
      "Epoch 59/100\n",
      "31/31 [==============================] - 0s 1ms/step - loss: 0.3214 - accuracy: 0.8423\n",
      "Epoch 60/100\n",
      "31/31 [==============================] - 0s 1ms/step - loss: 0.3191 - accuracy: 0.8534\n",
      "Epoch 61/100\n",
      "31/31 [==============================] - 0s 1ms/step - loss: 0.3188 - accuracy: 0.8524\n",
      "Epoch 62/100\n",
      "31/31 [==============================] - 0s 1ms/step - loss: 0.3168 - accuracy: 0.8504\n",
      "Epoch 63/100\n",
      "31/31 [==============================] - 0s 1ms/step - loss: 0.3158 - accuracy: 0.8534\n",
      "Epoch 64/100\n",
      "31/31 [==============================] - 0s 1ms/step - loss: 0.3130 - accuracy: 0.8504\n",
      "Epoch 65/100\n",
      "31/31 [==============================] - 0s 2ms/step - loss: 0.3126 - accuracy: 0.8514\n",
      "Epoch 66/100\n",
      "31/31 [==============================] - 0s 1ms/step - loss: 0.3102 - accuracy: 0.8574\n",
      "Epoch 67/100\n",
      "31/31 [==============================] - 0s 1ms/step - loss: 0.3108 - accuracy: 0.8544\n",
      "Epoch 68/100\n",
      "31/31 [==============================] - 0s 1ms/step - loss: 0.3069 - accuracy: 0.8534\n",
      "Epoch 69/100\n",
      "31/31 [==============================] - 0s 1ms/step - loss: 0.3039 - accuracy: 0.8595\n",
      "Epoch 70/100\n",
      "31/31 [==============================] - 0s 1ms/step - loss: 0.3045 - accuracy: 0.8584\n",
      "Epoch 71/100\n",
      "31/31 [==============================] - 0s 1ms/step - loss: 0.3032 - accuracy: 0.8595\n",
      "Epoch 72/100\n",
      "31/31 [==============================] - 0s 1ms/step - loss: 0.3032 - accuracy: 0.8605\n",
      "Epoch 73/100\n",
      "31/31 [==============================] - 0s 1ms/step - loss: 0.3000 - accuracy: 0.8595\n",
      "Epoch 74/100\n",
      "31/31 [==============================] - 0s 1ms/step - loss: 0.2989 - accuracy: 0.8625\n",
      "Epoch 75/100\n",
      "31/31 [==============================] - 0s 1ms/step - loss: 0.2999 - accuracy: 0.8655\n",
      "Epoch 76/100\n",
      "31/31 [==============================] - 0s 1ms/step - loss: 0.2962 - accuracy: 0.8605\n",
      "Epoch 77/100\n",
      "31/31 [==============================] - 0s 1ms/step - loss: 0.2947 - accuracy: 0.8665\n",
      "Epoch 78/100\n",
      "31/31 [==============================] - 0s 1ms/step - loss: 0.2933 - accuracy: 0.8635\n",
      "Epoch 79/100\n",
      "31/31 [==============================] - 0s 1ms/step - loss: 0.2928 - accuracy: 0.8655\n",
      "Epoch 80/100\n",
      "31/31 [==============================] - 0s 1ms/step - loss: 0.2926 - accuracy: 0.8574\n",
      "Epoch 81/100\n",
      "31/31 [==============================] - 0s 1ms/step - loss: 0.2887 - accuracy: 0.8675\n",
      "Epoch 82/100\n",
      "31/31 [==============================] - 0s 1ms/step - loss: 0.2904 - accuracy: 0.8645\n",
      "Epoch 83/100\n"
     ]
    },
    {
     "name": "stdout",
     "output_type": "stream",
     "text": [
      "31/31 [==============================] - 0s 1ms/step - loss: 0.2869 - accuracy: 0.8716\n",
      "Epoch 84/100\n",
      "31/31 [==============================] - 0s 1ms/step - loss: 0.2874 - accuracy: 0.8746\n",
      "Epoch 85/100\n",
      "31/31 [==============================] - 0s 1ms/step - loss: 0.2919 - accuracy: 0.8564\n",
      "Epoch 86/100\n",
      "31/31 [==============================] - 0s 1ms/step - loss: 0.2885 - accuracy: 0.8534\n",
      "Epoch 87/100\n",
      "31/31 [==============================] - 0s 1ms/step - loss: 0.2849 - accuracy: 0.8716\n",
      "Epoch 88/100\n",
      "31/31 [==============================] - 0s 1ms/step - loss: 0.2816 - accuracy: 0.8675\n",
      "Epoch 89/100\n",
      "31/31 [==============================] - 0s 1ms/step - loss: 0.2809 - accuracy: 0.8726\n",
      "Epoch 90/100\n",
      "31/31 [==============================] - 0s 1ms/step - loss: 0.2819 - accuracy: 0.8686\n",
      "Epoch 91/100\n",
      "31/31 [==============================] - 0s 1ms/step - loss: 0.2817 - accuracy: 0.8736\n",
      "Epoch 92/100\n",
      "31/31 [==============================] - 0s 1ms/step - loss: 0.2818 - accuracy: 0.8716\n",
      "Epoch 93/100\n",
      "31/31 [==============================] - 0s 1ms/step - loss: 0.2774 - accuracy: 0.8696\n",
      "Epoch 94/100\n",
      "31/31 [==============================] - 0s 1ms/step - loss: 0.2772 - accuracy: 0.8726\n",
      "Epoch 95/100\n",
      "31/31 [==============================] - 0s 1ms/step - loss: 0.2748 - accuracy: 0.8736\n",
      "Epoch 96/100\n",
      "31/31 [==============================] - 0s 1ms/step - loss: 0.2741 - accuracy: 0.8706\n",
      "Epoch 97/100\n",
      "31/31 [==============================] - 0s 1ms/step - loss: 0.2715 - accuracy: 0.8787\n",
      "Epoch 98/100\n",
      "31/31 [==============================] - 0s 1ms/step - loss: 0.2735 - accuracy: 0.8787\n",
      "Epoch 99/100\n",
      "31/31 [==============================] - 0s 1ms/step - loss: 0.2711 - accuracy: 0.8766\n",
      "Epoch 100/100\n",
      "31/31 [==============================] - 0s 1ms/step - loss: 0.2697 - accuracy: 0.8807\n"
     ]
    }
   ],
   "source": [
    "fit_model = nn.fit(X_train_scaled, y_train, epochs=100)"
   ]
  },
  {
   "cell_type": "code",
   "execution_count": 68,
   "metadata": {},
   "outputs": [
    {
     "name": "stdout",
     "output_type": "stream",
     "text": [
      "11/11 - 0s - loss: 0.8047 - accuracy: 0.8364 - 116ms/epoch - 11ms/step\n",
      "Loss: 0.8047412037849426, Accuracy: 0.8363636136054993\n"
     ]
    }
   ],
   "source": [
    "model_loss, model_accuracy = nn.evaluate(X_test_scaled,y_test,verbose=2)\n",
    "print(f\"Loss: {model_loss}, Accuracy: {model_accuracy}\")"
   ]
  },
  {
   "cell_type": "markdown",
   "metadata": {},
   "source": [
    "### Deep learning without troponin"
   ]
  },
  {
   "cell_type": "code",
   "execution_count": 69,
   "metadata": {},
   "outputs": [],
   "source": [
    "# Splitting into Train and Test sets\n",
    "X_train, X_test, y_train, y_test = train_test_split(X_noTroponin, y, random_state=3000)\n",
    "# Creating StandardScaler instance\n",
    "scaler = StandardScaler()\n",
    "# Fitting Standard Scaler\n",
    "X_scaler = scaler.fit(X_train)\n",
    "# Scaling data\n",
    "X_train_scaled = X_scaler.transform(X_train)\n",
    "X_test_scaled = X_scaler.transform(X_test)"
   ]
  },
  {
   "cell_type": "code",
   "execution_count": 72,
   "metadata": {},
   "outputs": [
    {
     "name": "stdout",
     "output_type": "stream",
     "text": [
      "Model: \"sequential_6\"\n",
      "_________________________________________________________________\n",
      " Layer (type)                Output Shape              Param #   \n",
      "=================================================================\n",
      " dense_19 (Dense)            (None, 16)                128       \n",
      "                                                                 \n",
      " dense_20 (Dense)            (None, 16)                272       \n",
      "                                                                 \n",
      " dense_21 (Dense)            (None, 1)                 17        \n",
      "                                                                 \n",
      "=================================================================\n",
      "Total params: 417 (1.63 KB)\n",
      "Trainable params: 417 (1.63 KB)\n",
      "Non-trainable params: 0 (0.00 Byte)\n",
      "_________________________________________________________________\n"
     ]
    }
   ],
   "source": [
    "# Define the model - deep neural net, i.e., the number of input features and hidden nodes for each layer.\n",
    "nn = tf.keras.models.Sequential()\n",
    "\n",
    "# First hidden layer\n",
    "nn.add(tf.keras.layers.Dense(units=16, activation=\"relu\", input_dim=7))\n",
    "\n",
    "# Second hidden layer\n",
    "nn.add(tf.keras.layers.Dense(units=16, activation=\"relu\"))\n",
    "\n",
    "# Output layer\n",
    "nn.add(tf.keras.layers.Dense(units=1, activation=\"sigmoid\"))\n",
    "\n",
    "# Check the structure of the model\n",
    "nn.summary()"
   ]
  },
  {
   "cell_type": "code",
   "execution_count": 73,
   "metadata": {},
   "outputs": [
    {
     "name": "stdout",
     "output_type": "stream",
     "text": [
      "Epoch 1/100\n",
      "31/31 [==============================] - 1s 1ms/step - loss: 0.6756 - accuracy: 0.5996\n",
      "Epoch 2/100\n",
      "31/31 [==============================] - 0s 1ms/step - loss: 0.6587 - accuracy: 0.6259\n",
      "Epoch 3/100\n",
      "31/31 [==============================] - 0s 1ms/step - loss: 0.6458 - accuracy: 0.6360\n",
      "Epoch 4/100\n",
      "31/31 [==============================] - 0s 1ms/step - loss: 0.6349 - accuracy: 0.6350\n",
      "Epoch 5/100\n",
      "31/31 [==============================] - 0s 1ms/step - loss: 0.6247 - accuracy: 0.6522\n",
      "Epoch 6/100\n",
      "31/31 [==============================] - 0s 1ms/step - loss: 0.6159 - accuracy: 0.6552\n",
      "Epoch 7/100\n",
      "31/31 [==============================] - 0s 2ms/step - loss: 0.6085 - accuracy: 0.6552\n",
      "Epoch 8/100\n",
      "31/31 [==============================] - 0s 1ms/step - loss: 0.6021 - accuracy: 0.6663\n",
      "Epoch 9/100\n",
      "31/31 [==============================] - 0s 2ms/step - loss: 0.5965 - accuracy: 0.6663\n",
      "Epoch 10/100\n",
      "31/31 [==============================] - 0s 2ms/step - loss: 0.5924 - accuracy: 0.6714\n",
      "Epoch 11/100\n",
      "31/31 [==============================] - 0s 1ms/step - loss: 0.5878 - accuracy: 0.6795\n",
      "Epoch 12/100\n",
      "31/31 [==============================] - 0s 2ms/step - loss: 0.5837 - accuracy: 0.6825\n",
      "Epoch 13/100\n",
      "31/31 [==============================] - 0s 1ms/step - loss: 0.5803 - accuracy: 0.6835\n",
      "Epoch 14/100\n",
      "31/31 [==============================] - 0s 1ms/step - loss: 0.5771 - accuracy: 0.6845\n",
      "Epoch 15/100\n",
      "31/31 [==============================] - 0s 1ms/step - loss: 0.5745 - accuracy: 0.6967\n",
      "Epoch 16/100\n",
      "31/31 [==============================] - 0s 1ms/step - loss: 0.5705 - accuracy: 0.6906\n",
      "Epoch 17/100\n",
      "31/31 [==============================] - 0s 1ms/step - loss: 0.5696 - accuracy: 0.6936\n",
      "Epoch 18/100\n",
      "31/31 [==============================] - 0s 1ms/step - loss: 0.5652 - accuracy: 0.6997\n",
      "Epoch 19/100\n",
      "31/31 [==============================] - 0s 1ms/step - loss: 0.5634 - accuracy: 0.6987\n",
      "Epoch 20/100\n",
      "31/31 [==============================] - 0s 1ms/step - loss: 0.5604 - accuracy: 0.6957\n",
      "Epoch 21/100\n",
      "31/31 [==============================] - 0s 1ms/step - loss: 0.5588 - accuracy: 0.6987\n",
      "Epoch 22/100\n",
      "31/31 [==============================] - 0s 1ms/step - loss: 0.5566 - accuracy: 0.7118\n",
      "Epoch 23/100\n",
      "31/31 [==============================] - 0s 1ms/step - loss: 0.5544 - accuracy: 0.7058\n",
      "Epoch 24/100\n",
      "31/31 [==============================] - 0s 1ms/step - loss: 0.5519 - accuracy: 0.7068\n",
      "Epoch 25/100\n",
      "31/31 [==============================] - 0s 1ms/step - loss: 0.5498 - accuracy: 0.7128\n",
      "Epoch 26/100\n",
      "31/31 [==============================] - 0s 1ms/step - loss: 0.5479 - accuracy: 0.7078\n",
      "Epoch 27/100\n",
      "31/31 [==============================] - 0s 1ms/step - loss: 0.5463 - accuracy: 0.7108\n",
      "Epoch 28/100\n",
      "31/31 [==============================] - 0s 1ms/step - loss: 0.5438 - accuracy: 0.7058\n",
      "Epoch 29/100\n",
      "31/31 [==============================] - 0s 1ms/step - loss: 0.5413 - accuracy: 0.7128\n",
      "Epoch 30/100\n",
      "31/31 [==============================] - 0s 1ms/step - loss: 0.5397 - accuracy: 0.7139\n",
      "Epoch 31/100\n",
      "31/31 [==============================] - 0s 1ms/step - loss: 0.5390 - accuracy: 0.7179\n",
      "Epoch 32/100\n",
      "31/31 [==============================] - 0s 1ms/step - loss: 0.5367 - accuracy: 0.7108\n",
      "Epoch 33/100\n",
      "31/31 [==============================] - 0s 1ms/step - loss: 0.5357 - accuracy: 0.7219\n",
      "Epoch 34/100\n",
      "31/31 [==============================] - 0s 1ms/step - loss: 0.5336 - accuracy: 0.7209\n",
      "Epoch 35/100\n",
      "31/31 [==============================] - 0s 1ms/step - loss: 0.5319 - accuracy: 0.7179\n",
      "Epoch 36/100\n",
      "31/31 [==============================] - 0s 1ms/step - loss: 0.5304 - accuracy: 0.7179\n",
      "Epoch 37/100\n",
      "31/31 [==============================] - 0s 1ms/step - loss: 0.5288 - accuracy: 0.7290\n",
      "Epoch 38/100\n",
      "31/31 [==============================] - 0s 1ms/step - loss: 0.5289 - accuracy: 0.7250\n",
      "Epoch 39/100\n",
      "31/31 [==============================] - 0s 1ms/step - loss: 0.5273 - accuracy: 0.7240\n",
      "Epoch 40/100\n",
      "31/31 [==============================] - 0s 1ms/step - loss: 0.5263 - accuracy: 0.7209\n",
      "Epoch 41/100\n",
      "31/31 [==============================] - 0s 1ms/step - loss: 0.5240 - accuracy: 0.7361\n",
      "Epoch 42/100\n",
      "31/31 [==============================] - 0s 1ms/step - loss: 0.5238 - accuracy: 0.7331\n",
      "Epoch 43/100\n",
      "31/31 [==============================] - 0s 1ms/step - loss: 0.5218 - accuracy: 0.7412\n",
      "Epoch 44/100\n",
      "31/31 [==============================] - 0s 1ms/step - loss: 0.5225 - accuracy: 0.7381\n",
      "Epoch 45/100\n",
      "31/31 [==============================] - 0s 1ms/step - loss: 0.5210 - accuracy: 0.7300\n",
      "Epoch 46/100\n",
      "31/31 [==============================] - 0s 1ms/step - loss: 0.5198 - accuracy: 0.7381\n",
      "Epoch 47/100\n",
      "31/31 [==============================] - 0s 1ms/step - loss: 0.5191 - accuracy: 0.7412\n",
      "Epoch 48/100\n",
      "31/31 [==============================] - 0s 1ms/step - loss: 0.5179 - accuracy: 0.7321\n",
      "Epoch 49/100\n",
      "31/31 [==============================] - 0s 1ms/step - loss: 0.5156 - accuracy: 0.7422\n",
      "Epoch 50/100\n",
      "31/31 [==============================] - 0s 1ms/step - loss: 0.5167 - accuracy: 0.7331\n",
      "Epoch 51/100\n",
      "31/31 [==============================] - 0s 1ms/step - loss: 0.5161 - accuracy: 0.7260\n",
      "Epoch 52/100\n",
      "31/31 [==============================] - 0s 1ms/step - loss: 0.5141 - accuracy: 0.7351\n",
      "Epoch 53/100\n",
      "31/31 [==============================] - 0s 1ms/step - loss: 0.5154 - accuracy: 0.7391\n",
      "Epoch 54/100\n",
      "31/31 [==============================] - 0s 1ms/step - loss: 0.5123 - accuracy: 0.7381\n",
      "Epoch 55/100\n",
      "31/31 [==============================] - 0s 1ms/step - loss: 0.5123 - accuracy: 0.7442\n",
      "Epoch 56/100\n",
      "31/31 [==============================] - 0s 2ms/step - loss: 0.5116 - accuracy: 0.7371\n",
      "Epoch 57/100\n",
      "31/31 [==============================] - 0s 1ms/step - loss: 0.5101 - accuracy: 0.7361\n",
      "Epoch 58/100\n",
      "31/31 [==============================] - 0s 1ms/step - loss: 0.5112 - accuracy: 0.7381\n",
      "Epoch 59/100\n",
      "31/31 [==============================] - 0s 1ms/step - loss: 0.5082 - accuracy: 0.7381\n",
      "Epoch 60/100\n",
      "31/31 [==============================] - 0s 1ms/step - loss: 0.5088 - accuracy: 0.7371\n",
      "Epoch 61/100\n",
      "31/31 [==============================] - 0s 1ms/step - loss: 0.5081 - accuracy: 0.7331\n",
      "Epoch 62/100\n",
      "31/31 [==============================] - 0s 1ms/step - loss: 0.5067 - accuracy: 0.7412\n",
      "Epoch 63/100\n",
      "31/31 [==============================] - 0s 1ms/step - loss: 0.5071 - accuracy: 0.7412\n",
      "Epoch 64/100\n",
      "31/31 [==============================] - 0s 1ms/step - loss: 0.5065 - accuracy: 0.7310\n",
      "Epoch 65/100\n",
      "31/31 [==============================] - 0s 1ms/step - loss: 0.5065 - accuracy: 0.7331\n",
      "Epoch 66/100\n",
      "31/31 [==============================] - 0s 1ms/step - loss: 0.5044 - accuracy: 0.7381\n",
      "Epoch 67/100\n",
      "31/31 [==============================] - 0s 1ms/step - loss: 0.5038 - accuracy: 0.7401\n",
      "Epoch 68/100\n",
      "31/31 [==============================] - 0s 1ms/step - loss: 0.5044 - accuracy: 0.7391\n",
      "Epoch 69/100\n",
      "31/31 [==============================] - 0s 1ms/step - loss: 0.5048 - accuracy: 0.7351\n",
      "Epoch 70/100\n",
      "31/31 [==============================] - 0s 1ms/step - loss: 0.5031 - accuracy: 0.7341\n",
      "Epoch 71/100\n",
      "31/31 [==============================] - 0s 1ms/step - loss: 0.5017 - accuracy: 0.7391\n",
      "Epoch 72/100\n",
      "31/31 [==============================] - 0s 1ms/step - loss: 0.5023 - accuracy: 0.7422\n",
      "Epoch 73/100\n",
      "31/31 [==============================] - 0s 1ms/step - loss: 0.5029 - accuracy: 0.7452\n",
      "Epoch 74/100\n",
      "31/31 [==============================] - 0s 1ms/step - loss: 0.5022 - accuracy: 0.7371\n",
      "Epoch 75/100\n",
      "31/31 [==============================] - 0s 1ms/step - loss: 0.5005 - accuracy: 0.7401\n",
      "Epoch 76/100\n",
      "31/31 [==============================] - 0s 1ms/step - loss: 0.5010 - accuracy: 0.7452\n",
      "Epoch 77/100\n",
      "31/31 [==============================] - 0s 1ms/step - loss: 0.5002 - accuracy: 0.7351\n",
      "Epoch 78/100\n",
      "31/31 [==============================] - 0s 1ms/step - loss: 0.4991 - accuracy: 0.7381\n",
      "Epoch 79/100\n",
      "31/31 [==============================] - 0s 1ms/step - loss: 0.4996 - accuracy: 0.7371\n",
      "Epoch 80/100\n",
      "31/31 [==============================] - 0s 1ms/step - loss: 0.4983 - accuracy: 0.7462\n",
      "Epoch 81/100\n",
      "31/31 [==============================] - 0s 1ms/step - loss: 0.4996 - accuracy: 0.7412\n",
      "Epoch 82/100\n",
      "31/31 [==============================] - 0s 1ms/step - loss: 0.4989 - accuracy: 0.7432\n",
      "Epoch 83/100\n"
     ]
    },
    {
     "name": "stdout",
     "output_type": "stream",
     "text": [
      "31/31 [==============================] - 0s 1ms/step - loss: 0.4971 - accuracy: 0.7442\n",
      "Epoch 84/100\n",
      "31/31 [==============================] - 0s 1ms/step - loss: 0.4971 - accuracy: 0.7401\n",
      "Epoch 85/100\n",
      "31/31 [==============================] - 0s 1ms/step - loss: 0.4972 - accuracy: 0.7492\n",
      "Epoch 86/100\n",
      "31/31 [==============================] - 0s 1ms/step - loss: 0.4972 - accuracy: 0.7513\n",
      "Epoch 87/100\n",
      "31/31 [==============================] - 0s 1ms/step - loss: 0.4957 - accuracy: 0.7482\n",
      "Epoch 88/100\n",
      "31/31 [==============================] - 0s 1ms/step - loss: 0.4947 - accuracy: 0.7381\n",
      "Epoch 89/100\n",
      "31/31 [==============================] - 0s 1ms/step - loss: 0.4956 - accuracy: 0.7482\n",
      "Epoch 90/100\n",
      "31/31 [==============================] - 0s 1ms/step - loss: 0.4945 - accuracy: 0.7503\n",
      "Epoch 91/100\n",
      "31/31 [==============================] - 0s 1ms/step - loss: 0.4946 - accuracy: 0.7422\n",
      "Epoch 92/100\n",
      "31/31 [==============================] - 0s 1ms/step - loss: 0.4949 - accuracy: 0.7503\n",
      "Epoch 93/100\n",
      "31/31 [==============================] - 0s 1ms/step - loss: 0.4947 - accuracy: 0.7391\n",
      "Epoch 94/100\n",
      "31/31 [==============================] - 0s 2ms/step - loss: 0.4920 - accuracy: 0.7452\n",
      "Epoch 95/100\n",
      "31/31 [==============================] - 0s 1ms/step - loss: 0.4933 - accuracy: 0.7452\n",
      "Epoch 96/100\n",
      "31/31 [==============================] - 0s 2ms/step - loss: 0.4955 - accuracy: 0.7401\n",
      "Epoch 97/100\n",
      "31/31 [==============================] - 0s 1ms/step - loss: 0.4937 - accuracy: 0.7472\n",
      "Epoch 98/100\n",
      "31/31 [==============================] - 0s 1ms/step - loss: 0.4926 - accuracy: 0.7492\n",
      "Epoch 99/100\n",
      "31/31 [==============================] - 0s 1ms/step - loss: 0.4913 - accuracy: 0.7422\n",
      "Epoch 100/100\n",
      "31/31 [==============================] - 0s 1ms/step - loss: 0.4918 - accuracy: 0.7472\n"
     ]
    }
   ],
   "source": [
    "nn.compile(loss=\"binary_crossentropy\", optimizer=\"adam\", metrics=[\"accuracy\"])\n",
    "fit_model = nn.fit(X_train_scaled, y_train, epochs=100)"
   ]
  },
  {
   "cell_type": "code",
   "execution_count": 74,
   "metadata": {},
   "outputs": [
    {
     "name": "stdout",
     "output_type": "stream",
     "text": [
      "11/11 - 0s - loss: 0.5257 - accuracy: 0.7303 - 125ms/epoch - 11ms/step\n",
      "Loss: 0.5257161259651184, Accuracy: 0.7303030490875244\n"
     ]
    }
   ],
   "source": [
    "model_loss, model_accuracy = nn.evaluate(X_test_scaled,y_test,verbose=2)\n",
    "print(f\"Loss: {model_loss}, Accuracy: {model_accuracy}\")"
   ]
  },
  {
   "cell_type": "code",
   "execution_count": null,
   "metadata": {},
   "outputs": [],
   "source": []
  }
 ],
 "metadata": {
  "file_extension": ".py",
  "kernelspec": {
   "display_name": "Python 3 (ipykernel)",
   "language": "python",
   "name": "python3"
  },
  "language_info": {
   "codemirror_mode": {
    "name": "ipython",
    "version": 3
   },
   "file_extension": ".py",
   "mimetype": "text/x-python",
   "name": "python",
   "nbconvert_exporter": "python",
   "pygments_lexer": "ipython3",
   "version": "3.9.12"
  },
  "mimetype": "text/x-python",
  "name": "python",
  "npconvert_exporter": "python",
  "pygments_lexer": "ipython3",
  "version": 3
 },
 "nbformat": 4,
 "nbformat_minor": 4
}
