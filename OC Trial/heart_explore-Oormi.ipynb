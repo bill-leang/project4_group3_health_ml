{
 "cells": [
  {
   "cell_type": "markdown",
   "metadata": {},
   "source": [
    "# Heart Attack Data Exploration"
   ]
  },
  {
   "cell_type": "code",
   "execution_count": 1,
   "metadata": {},
   "outputs": [
    {
     "name": "stderr",
     "output_type": "stream",
     "text": [
      "C:\\Users\\Oormi\\anaconda3\\lib\\site-packages\\scipy\\__init__.py:146: UserWarning: A NumPy version >=1.16.5 and <1.23.0 is required for this version of SciPy (detected version 1.26.3\n",
      "  warnings.warn(f\"A NumPy version >={np_minversion} and <{np_maxversion}\"\n"
     ]
    }
   ],
   "source": [
    "# Initial imports\n",
    "import pandas as pd\n",
    "from pathlib import Path\n",
    "from sklearn.ensemble import RandomForestClassifier\n",
    "from sklearn.preprocessing import StandardScaler\n",
    "from sklearn.model_selection import train_test_split\n",
    "from sklearn.metrics import confusion_matrix, accuracy_score, classification_report\n",
    "%matplotlib inline\n"
   ]
  },
  {
   "cell_type": "markdown",
   "metadata": {},
   "source": [
    "## Loading and Preprocessing Heart Attack Data"
   ]
  },
  {
   "cell_type": "code",
   "execution_count": 2,
   "metadata": {},
   "outputs": [
    {
     "data": {
      "text/html": [
       "<div>\n",
       "<style scoped>\n",
       "    .dataframe tbody tr th:only-of-type {\n",
       "        vertical-align: middle;\n",
       "    }\n",
       "\n",
       "    .dataframe tbody tr th {\n",
       "        vertical-align: top;\n",
       "    }\n",
       "\n",
       "    .dataframe thead th {\n",
       "        text-align: right;\n",
       "    }\n",
       "</style>\n",
       "<table border=\"1\" class=\"dataframe\">\n",
       "  <thead>\n",
       "    <tr style=\"text-align: right;\">\n",
       "      <th></th>\n",
       "      <th>Patient ID</th>\n",
       "      <th>Age</th>\n",
       "      <th>Sex</th>\n",
       "      <th>Cholesterol</th>\n",
       "      <th>Blood Pressure</th>\n",
       "      <th>Heart Rate</th>\n",
       "      <th>Diabetes</th>\n",
       "      <th>Family History</th>\n",
       "      <th>Smoking</th>\n",
       "      <th>Obesity</th>\n",
       "      <th>...</th>\n",
       "      <th>Sedentary Hours Per Day</th>\n",
       "      <th>Income</th>\n",
       "      <th>BMI</th>\n",
       "      <th>Triglycerides</th>\n",
       "      <th>Physical Activity Days Per Week</th>\n",
       "      <th>Sleep Hours Per Day</th>\n",
       "      <th>Country</th>\n",
       "      <th>Continent</th>\n",
       "      <th>Hemisphere</th>\n",
       "      <th>Heart Attack Risk</th>\n",
       "    </tr>\n",
       "  </thead>\n",
       "  <tbody>\n",
       "    <tr>\n",
       "      <th>0</th>\n",
       "      <td>BMW7812</td>\n",
       "      <td>67</td>\n",
       "      <td>Male</td>\n",
       "      <td>208</td>\n",
       "      <td>158/88</td>\n",
       "      <td>72</td>\n",
       "      <td>0</td>\n",
       "      <td>0</td>\n",
       "      <td>1</td>\n",
       "      <td>0</td>\n",
       "      <td>...</td>\n",
       "      <td>6.615001</td>\n",
       "      <td>261404</td>\n",
       "      <td>31.251233</td>\n",
       "      <td>286</td>\n",
       "      <td>0</td>\n",
       "      <td>6</td>\n",
       "      <td>Argentina</td>\n",
       "      <td>South America</td>\n",
       "      <td>Southern Hemisphere</td>\n",
       "      <td>0</td>\n",
       "    </tr>\n",
       "    <tr>\n",
       "      <th>1</th>\n",
       "      <td>CZE1114</td>\n",
       "      <td>21</td>\n",
       "      <td>Male</td>\n",
       "      <td>389</td>\n",
       "      <td>165/93</td>\n",
       "      <td>98</td>\n",
       "      <td>1</td>\n",
       "      <td>1</td>\n",
       "      <td>1</td>\n",
       "      <td>1</td>\n",
       "      <td>...</td>\n",
       "      <td>4.963459</td>\n",
       "      <td>285768</td>\n",
       "      <td>27.194973</td>\n",
       "      <td>235</td>\n",
       "      <td>1</td>\n",
       "      <td>7</td>\n",
       "      <td>Canada</td>\n",
       "      <td>North America</td>\n",
       "      <td>Northern Hemisphere</td>\n",
       "      <td>0</td>\n",
       "    </tr>\n",
       "    <tr>\n",
       "      <th>2</th>\n",
       "      <td>BNI9906</td>\n",
       "      <td>21</td>\n",
       "      <td>Female</td>\n",
       "      <td>324</td>\n",
       "      <td>174/99</td>\n",
       "      <td>72</td>\n",
       "      <td>1</td>\n",
       "      <td>0</td>\n",
       "      <td>0</td>\n",
       "      <td>0</td>\n",
       "      <td>...</td>\n",
       "      <td>9.463426</td>\n",
       "      <td>235282</td>\n",
       "      <td>28.176571</td>\n",
       "      <td>587</td>\n",
       "      <td>4</td>\n",
       "      <td>4</td>\n",
       "      <td>France</td>\n",
       "      <td>Europe</td>\n",
       "      <td>Northern Hemisphere</td>\n",
       "      <td>0</td>\n",
       "    </tr>\n",
       "    <tr>\n",
       "      <th>3</th>\n",
       "      <td>JLN3497</td>\n",
       "      <td>84</td>\n",
       "      <td>Male</td>\n",
       "      <td>383</td>\n",
       "      <td>163/100</td>\n",
       "      <td>73</td>\n",
       "      <td>1</td>\n",
       "      <td>1</td>\n",
       "      <td>1</td>\n",
       "      <td>0</td>\n",
       "      <td>...</td>\n",
       "      <td>7.648981</td>\n",
       "      <td>125640</td>\n",
       "      <td>36.464704</td>\n",
       "      <td>378</td>\n",
       "      <td>3</td>\n",
       "      <td>4</td>\n",
       "      <td>Canada</td>\n",
       "      <td>North America</td>\n",
       "      <td>Northern Hemisphere</td>\n",
       "      <td>0</td>\n",
       "    </tr>\n",
       "    <tr>\n",
       "      <th>4</th>\n",
       "      <td>GFO8847</td>\n",
       "      <td>66</td>\n",
       "      <td>Male</td>\n",
       "      <td>318</td>\n",
       "      <td>91/88</td>\n",
       "      <td>93</td>\n",
       "      <td>1</td>\n",
       "      <td>1</td>\n",
       "      <td>1</td>\n",
       "      <td>1</td>\n",
       "      <td>...</td>\n",
       "      <td>1.514821</td>\n",
       "      <td>160555</td>\n",
       "      <td>21.809144</td>\n",
       "      <td>231</td>\n",
       "      <td>1</td>\n",
       "      <td>5</td>\n",
       "      <td>Thailand</td>\n",
       "      <td>Asia</td>\n",
       "      <td>Northern Hemisphere</td>\n",
       "      <td>0</td>\n",
       "    </tr>\n",
       "  </tbody>\n",
       "</table>\n",
       "<p>5 rows × 26 columns</p>\n",
       "</div>"
      ],
      "text/plain": [
       "  Patient ID  Age     Sex  Cholesterol Blood Pressure  Heart Rate  Diabetes  \\\n",
       "0    BMW7812   67    Male          208         158/88          72         0   \n",
       "1    CZE1114   21    Male          389         165/93          98         1   \n",
       "2    BNI9906   21  Female          324         174/99          72         1   \n",
       "3    JLN3497   84    Male          383        163/100          73         1   \n",
       "4    GFO8847   66    Male          318          91/88          93         1   \n",
       "\n",
       "   Family History  Smoking  Obesity  ...  Sedentary Hours Per Day  Income  \\\n",
       "0               0        1        0  ...                 6.615001  261404   \n",
       "1               1        1        1  ...                 4.963459  285768   \n",
       "2               0        0        0  ...                 9.463426  235282   \n",
       "3               1        1        0  ...                 7.648981  125640   \n",
       "4               1        1        1  ...                 1.514821  160555   \n",
       "\n",
       "         BMI  Triglycerides  Physical Activity Days Per Week  \\\n",
       "0  31.251233            286                                0   \n",
       "1  27.194973            235                                1   \n",
       "2  28.176571            587                                4   \n",
       "3  36.464704            378                                3   \n",
       "4  21.809144            231                                1   \n",
       "\n",
       "   Sleep Hours Per Day    Country      Continent           Hemisphere  \\\n",
       "0                    6  Argentina  South America  Southern Hemisphere   \n",
       "1                    7     Canada  North America  Northern Hemisphere   \n",
       "2                    4     France         Europe  Northern Hemisphere   \n",
       "3                    4     Canada  North America  Northern Hemisphere   \n",
       "4                    5   Thailand           Asia  Northern Hemisphere   \n",
       "\n",
       "   Heart Attack Risk  \n",
       "0                  0  \n",
       "1                  0  \n",
       "2                  0  \n",
       "3                  0  \n",
       "4                  0  \n",
       "\n",
       "[5 rows x 26 columns]"
      ]
     },
     "execution_count": 2,
     "metadata": {},
     "output_type": "execute_result"
    }
   ],
   "source": [
    "# Loading data\n",
    "file_path = Path(\"../Resources/heart_attack_prediction_dataset.csv\")\n",
    "df_heart = pd.read_csv(file_path)\n",
    "df_heart.head()\n"
   ]
  },
  {
   "cell_type": "code",
   "execution_count": 3,
   "metadata": {},
   "outputs": [
    {
     "data": {
      "text/plain": [
       "Patient ID                          object\n",
       "Age                                  int64\n",
       "Sex                                 object\n",
       "Cholesterol                          int64\n",
       "Blood Pressure                      object\n",
       "Heart Rate                           int64\n",
       "Diabetes                             int64\n",
       "Family History                       int64\n",
       "Smoking                              int64\n",
       "Obesity                              int64\n",
       "Alcohol Consumption                  int64\n",
       "Exercise Hours Per Week            float64\n",
       "Diet                                object\n",
       "Previous Heart Problems              int64\n",
       "Medication Use                       int64\n",
       "Stress Level                         int64\n",
       "Sedentary Hours Per Day            float64\n",
       "Income                               int64\n",
       "BMI                                float64\n",
       "Triglycerides                        int64\n",
       "Physical Activity Days Per Week      int64\n",
       "Sleep Hours Per Day                  int64\n",
       "Country                             object\n",
       "Continent                           object\n",
       "Hemisphere                          object\n",
       "Heart Attack Risk                    int64\n",
       "dtype: object"
      ]
     },
     "execution_count": 3,
     "metadata": {},
     "output_type": "execute_result"
    }
   ],
   "source": [
    "df_heart.dtypes"
   ]
  },
  {
   "cell_type": "code",
   "execution_count": 5,
   "metadata": {},
   "outputs": [
    {
     "data": {
      "text/plain": [
       "0    0\n",
       "1    0\n",
       "2    0\n",
       "3    0\n",
       "4    0\n",
       "Name: Heart Attack Risk, dtype: int64"
      ]
     },
     "execution_count": 5,
     "metadata": {},
     "output_type": "execute_result"
    }
   ],
   "source": [
    "# Define target vector\n",
    "y = df_heart[\"Heart Attack Risk\"]\n",
    "y[:5]"
   ]
  },
  {
   "cell_type": "code",
   "execution_count": 98,
   "metadata": {},
   "outputs": [
    {
     "data": {
      "text/html": [
       "<div>\n",
       "<style scoped>\n",
       "    .dataframe tbody tr th:only-of-type {\n",
       "        vertical-align: middle;\n",
       "    }\n",
       "\n",
       "    .dataframe tbody tr th {\n",
       "        vertical-align: top;\n",
       "    }\n",
       "\n",
       "    .dataframe thead th {\n",
       "        text-align: right;\n",
       "    }\n",
       "</style>\n",
       "<table border=\"1\" class=\"dataframe\">\n",
       "  <thead>\n",
       "    <tr style=\"text-align: right;\">\n",
       "      <th></th>\n",
       "      <th>Age</th>\n",
       "      <th>Sex</th>\n",
       "      <th>Cholesterol</th>\n",
       "      <th>Heart Rate</th>\n",
       "      <th>Exercise Hours Per Week</th>\n",
       "      <th>Stress Level</th>\n",
       "      <th>Sedentary Hours Per Day</th>\n",
       "      <th>Income</th>\n",
       "      <th>BMI</th>\n",
       "      <th>Triglycerides</th>\n",
       "    </tr>\n",
       "  </thead>\n",
       "  <tbody>\n",
       "    <tr>\n",
       "      <th>0</th>\n",
       "      <td>67</td>\n",
       "      <td>Male</td>\n",
       "      <td>208</td>\n",
       "      <td>72</td>\n",
       "      <td>4.168189</td>\n",
       "      <td>9</td>\n",
       "      <td>6.615001</td>\n",
       "      <td>261404</td>\n",
       "      <td>31.251233</td>\n",
       "      <td>286</td>\n",
       "    </tr>\n",
       "    <tr>\n",
       "      <th>1</th>\n",
       "      <td>21</td>\n",
       "      <td>Male</td>\n",
       "      <td>389</td>\n",
       "      <td>98</td>\n",
       "      <td>1.813242</td>\n",
       "      <td>1</td>\n",
       "      <td>4.963459</td>\n",
       "      <td>285768</td>\n",
       "      <td>27.194973</td>\n",
       "      <td>235</td>\n",
       "    </tr>\n",
       "    <tr>\n",
       "      <th>2</th>\n",
       "      <td>21</td>\n",
       "      <td>Female</td>\n",
       "      <td>324</td>\n",
       "      <td>72</td>\n",
       "      <td>2.078353</td>\n",
       "      <td>9</td>\n",
       "      <td>9.463426</td>\n",
       "      <td>235282</td>\n",
       "      <td>28.176571</td>\n",
       "      <td>587</td>\n",
       "    </tr>\n",
       "    <tr>\n",
       "      <th>3</th>\n",
       "      <td>84</td>\n",
       "      <td>Male</td>\n",
       "      <td>383</td>\n",
       "      <td>73</td>\n",
       "      <td>9.828130</td>\n",
       "      <td>9</td>\n",
       "      <td>7.648981</td>\n",
       "      <td>125640</td>\n",
       "      <td>36.464704</td>\n",
       "      <td>378</td>\n",
       "    </tr>\n",
       "    <tr>\n",
       "      <th>4</th>\n",
       "      <td>66</td>\n",
       "      <td>Male</td>\n",
       "      <td>318</td>\n",
       "      <td>93</td>\n",
       "      <td>5.804299</td>\n",
       "      <td>6</td>\n",
       "      <td>1.514821</td>\n",
       "      <td>160555</td>\n",
       "      <td>21.809144</td>\n",
       "      <td>231</td>\n",
       "    </tr>\n",
       "  </tbody>\n",
       "</table>\n",
       "</div>"
      ],
      "text/plain": [
       "   Age     Sex  Cholesterol  Heart Rate  Exercise Hours Per Week  \\\n",
       "0   67    Male          208          72                 4.168189   \n",
       "1   21    Male          389          98                 1.813242   \n",
       "2   21  Female          324          72                 2.078353   \n",
       "3   84    Male          383          73                 9.828130   \n",
       "4   66    Male          318          93                 5.804299   \n",
       "\n",
       "   Stress Level  Sedentary Hours Per Day  Income        BMI  Triglycerides  \n",
       "0             9                 6.615001  261404  31.251233            286  \n",
       "1             1                 4.963459  285768  27.194973            235  \n",
       "2             9                 9.463426  235282  28.176571            587  \n",
       "3             9                 7.648981  125640  36.464704            378  \n",
       "4             6                 1.514821  160555  21.809144            231  "
      ]
     },
     "execution_count": 98,
     "metadata": {},
     "output_type": "execute_result"
    }
   ],
   "source": [
    "# Define features set\n",
    "X = df_heart.copy()\n",
    "# Drop interfering and target columns\n",
    "X.drop([\"Patient ID\",\"Blood Pressure\",\"Blood Pressure\",\"Country\",\"Continent\",\"Hemisphere\",\n",
    "        \"Smoking\", \"Diabetes\", \"Obesity\", \"Alcohol Consumption\", \"Previous Heart Problems\", \"Medication Use\",\n",
    "        \"Family History\", \"Diet\", \"Sleep Hours Per Day\", \"Physical Activity Days Per Week\", \"Heart Attack Risk\"], axis=1, inplace=True)\n",
    "X.head()"
   ]
  },
  {
   "cell_type": "code",
   "execution_count": 99,
   "metadata": {},
   "outputs": [
    {
     "data": {
      "text/html": [
       "<div>\n",
       "<style scoped>\n",
       "    .dataframe tbody tr th:only-of-type {\n",
       "        vertical-align: middle;\n",
       "    }\n",
       "\n",
       "    .dataframe tbody tr th {\n",
       "        vertical-align: top;\n",
       "    }\n",
       "\n",
       "    .dataframe thead th {\n",
       "        text-align: right;\n",
       "    }\n",
       "</style>\n",
       "<table border=\"1\" class=\"dataframe\">\n",
       "  <thead>\n",
       "    <tr style=\"text-align: right;\">\n",
       "      <th></th>\n",
       "      <th>Age</th>\n",
       "      <th>Cholesterol</th>\n",
       "      <th>Heart Rate</th>\n",
       "      <th>Exercise Hours Per Week</th>\n",
       "      <th>Stress Level</th>\n",
       "      <th>Sedentary Hours Per Day</th>\n",
       "      <th>Income</th>\n",
       "      <th>BMI</th>\n",
       "      <th>Triglycerides</th>\n",
       "      <th>Sex_Female</th>\n",
       "      <th>Sex_Male</th>\n",
       "    </tr>\n",
       "  </thead>\n",
       "  <tbody>\n",
       "    <tr>\n",
       "      <th>0</th>\n",
       "      <td>67</td>\n",
       "      <td>208</td>\n",
       "      <td>72</td>\n",
       "      <td>4.168189</td>\n",
       "      <td>9</td>\n",
       "      <td>6.615001</td>\n",
       "      <td>261404</td>\n",
       "      <td>31.251233</td>\n",
       "      <td>286</td>\n",
       "      <td>0</td>\n",
       "      <td>1</td>\n",
       "    </tr>\n",
       "    <tr>\n",
       "      <th>1</th>\n",
       "      <td>21</td>\n",
       "      <td>389</td>\n",
       "      <td>98</td>\n",
       "      <td>1.813242</td>\n",
       "      <td>1</td>\n",
       "      <td>4.963459</td>\n",
       "      <td>285768</td>\n",
       "      <td>27.194973</td>\n",
       "      <td>235</td>\n",
       "      <td>0</td>\n",
       "      <td>1</td>\n",
       "    </tr>\n",
       "    <tr>\n",
       "      <th>2</th>\n",
       "      <td>21</td>\n",
       "      <td>324</td>\n",
       "      <td>72</td>\n",
       "      <td>2.078353</td>\n",
       "      <td>9</td>\n",
       "      <td>9.463426</td>\n",
       "      <td>235282</td>\n",
       "      <td>28.176571</td>\n",
       "      <td>587</td>\n",
       "      <td>1</td>\n",
       "      <td>0</td>\n",
       "    </tr>\n",
       "    <tr>\n",
       "      <th>3</th>\n",
       "      <td>84</td>\n",
       "      <td>383</td>\n",
       "      <td>73</td>\n",
       "      <td>9.828130</td>\n",
       "      <td>9</td>\n",
       "      <td>7.648981</td>\n",
       "      <td>125640</td>\n",
       "      <td>36.464704</td>\n",
       "      <td>378</td>\n",
       "      <td>0</td>\n",
       "      <td>1</td>\n",
       "    </tr>\n",
       "    <tr>\n",
       "      <th>4</th>\n",
       "      <td>66</td>\n",
       "      <td>318</td>\n",
       "      <td>93</td>\n",
       "      <td>5.804299</td>\n",
       "      <td>6</td>\n",
       "      <td>1.514821</td>\n",
       "      <td>160555</td>\n",
       "      <td>21.809144</td>\n",
       "      <td>231</td>\n",
       "      <td>0</td>\n",
       "      <td>1</td>\n",
       "    </tr>\n",
       "  </tbody>\n",
       "</table>\n",
       "</div>"
      ],
      "text/plain": [
       "   Age  Cholesterol  Heart Rate  Exercise Hours Per Week  Stress Level  \\\n",
       "0   67          208          72                 4.168189             9   \n",
       "1   21          389          98                 1.813242             1   \n",
       "2   21          324          72                 2.078353             9   \n",
       "3   84          383          73                 9.828130             9   \n",
       "4   66          318          93                 5.804299             6   \n",
       "\n",
       "   Sedentary Hours Per Day  Income        BMI  Triglycerides  Sex_Female  \\\n",
       "0                 6.615001  261404  31.251233            286           0   \n",
       "1                 4.963459  285768  27.194973            235           0   \n",
       "2                 9.463426  235282  28.176571            587           1   \n",
       "3                 7.648981  125640  36.464704            378           0   \n",
       "4                 1.514821  160555  21.809144            231           0   \n",
       "\n",
       "   Sex_Male  \n",
       "0         1  \n",
       "1         1  \n",
       "2         0  \n",
       "3         1  \n",
       "4         1  "
      ]
     },
     "execution_count": 99,
     "metadata": {},
     "output_type": "execute_result"
    }
   ],
   "source": [
    "# Sex Convert categorical column to binary (dummy) variables\n",
    "df_dummies = pd.get_dummies(X['Sex'], prefix='Sex')\n",
    "X.drop([\"Sex\"], axis=1, inplace=True)\n",
    "# Concatenate the dummy variables with the original DataFrame\n",
    "X = pd.concat([X, df_dummies], axis=1)\n",
    "\n",
    "# Diet Convert categorical column to binary (dummy) variables\n",
    "#X['Diet'] = X['Diet'].map({'Unhealthy': 0, 'Average': 1, 'Healthy': 2})\n",
    "# Concatenate the dummy variables with the original DataFrame\n",
    "X.head()"
   ]
  },
  {
   "cell_type": "code",
   "execution_count": 53,
   "metadata": {},
   "outputs": [],
   "source": [
    "# Splitting into Train and Test sets\n",
    "X_train, X_test, y_train, y_test = train_test_split(X, y, random_state=3000)"
   ]
  },
  {
   "cell_type": "code",
   "execution_count": 54,
   "metadata": {},
   "outputs": [],
   "source": [
    "# Creating StandardScaler instance\n",
    "scaler = StandardScaler()"
   ]
  },
  {
   "cell_type": "code",
   "execution_count": 55,
   "metadata": {},
   "outputs": [],
   "source": [
    "# Fitting Standard Scaller\n",
    "X_scaler = scaler.fit(X_train)"
   ]
  },
  {
   "cell_type": "code",
   "execution_count": 56,
   "metadata": {},
   "outputs": [],
   "source": [
    "# Scaling data\n",
    "X_train_scaled = X_scaler.transform(X_train)\n",
    "X_test_scaled = X_scaler.transform(X_test)"
   ]
  },
  {
   "cell_type": "markdown",
   "metadata": {},
   "source": [
    "## Fitting the Random Forest Model"
   ]
  },
  {
   "cell_type": "code",
   "execution_count": 57,
   "metadata": {},
   "outputs": [],
   "source": [
    "# Create a random forest classifier\n",
    "rf_model = RandomForestClassifier(n_estimators=1000, random_state=75)"
   ]
  },
  {
   "cell_type": "code",
   "execution_count": 58,
   "metadata": {},
   "outputs": [],
   "source": [
    "# Fitting the model\n",
    "rf_model = rf_model.fit(X_train_scaled, y_train)"
   ]
  },
  {
   "cell_type": "markdown",
   "metadata": {},
   "source": [
    "## Making Predictions Using the Random Forest Model"
   ]
  },
  {
   "cell_type": "code",
   "execution_count": 59,
   "metadata": {},
   "outputs": [],
   "source": [
    "# Making predictions using the testing data\n",
    "predictions = rf_model.predict(X_test_scaled)"
   ]
  },
  {
   "cell_type": "markdown",
   "metadata": {},
   "source": [
    "## Model Evaluation"
   ]
  },
  {
   "cell_type": "code",
   "execution_count": 60,
   "metadata": {},
   "outputs": [],
   "source": [
    "# Calculating the confusion matrix\n",
    "cm = confusion_matrix(y_test, predictions)\n",
    "cm_df = pd.DataFrame(\n",
    "    cm, index=[\"Actual 0\", \"Actual 1\"], columns=[\"Predicted 0\", \"Predicted 1\"]\n",
    ")\n",
    "\n",
    "# Calculating the accuracy score\n",
    "acc_score = accuracy_score(y_test, predictions)"
   ]
  },
  {
   "cell_type": "code",
   "execution_count": 61,
   "metadata": {},
   "outputs": [
    {
     "name": "stdout",
     "output_type": "stream",
     "text": [
      "Confusion Matrix\n"
     ]
    },
    {
     "data": {
      "text/html": [
       "<div>\n",
       "<style scoped>\n",
       "    .dataframe tbody tr th:only-of-type {\n",
       "        vertical-align: middle;\n",
       "    }\n",
       "\n",
       "    .dataframe tbody tr th {\n",
       "        vertical-align: top;\n",
       "    }\n",
       "\n",
       "    .dataframe thead th {\n",
       "        text-align: right;\n",
       "    }\n",
       "</style>\n",
       "<table border=\"1\" class=\"dataframe\">\n",
       "  <thead>\n",
       "    <tr style=\"text-align: right;\">\n",
       "      <th></th>\n",
       "      <th>Predicted 0</th>\n",
       "      <th>Predicted 1</th>\n",
       "    </tr>\n",
       "  </thead>\n",
       "  <tbody>\n",
       "    <tr>\n",
       "      <th>Actual 0</th>\n",
       "      <td>1377</td>\n",
       "      <td>42</td>\n",
       "    </tr>\n",
       "    <tr>\n",
       "      <th>Actual 1</th>\n",
       "      <td>755</td>\n",
       "      <td>17</td>\n",
       "    </tr>\n",
       "  </tbody>\n",
       "</table>\n",
       "</div>"
      ],
      "text/plain": [
       "          Predicted 0  Predicted 1\n",
       "Actual 0         1377           42\n",
       "Actual 1          755           17"
      ]
     },
     "metadata": {},
     "output_type": "display_data"
    },
    {
     "name": "stdout",
     "output_type": "stream",
     "text": [
      "Confusion matrix Accuracy Score : 0.6362391602008215\n",
      "Classification Report\n",
      "              precision    recall  f1-score   support\n",
      "\n",
      "           0       0.65      0.97      0.78      1419\n",
      "           1       0.29      0.02      0.04       772\n",
      "\n",
      "    accuracy                           0.64      2191\n",
      "   macro avg       0.47      0.50      0.41      2191\n",
      "weighted avg       0.52      0.64      0.52      2191\n",
      "\n"
     ]
    }
   ],
   "source": [
    "# Displaying results\n",
    "print(\"Confusion Matrix\")\n",
    "display(cm_df)\n",
    "print(f\"Confusion matrix Accuracy Score : {acc_score}\")\n",
    "print(\"Classification Report\")\n",
    "print(classification_report(y_test, predictions))"
   ]
  },
  {
   "cell_type": "markdown",
   "metadata": {},
   "source": [
    "## Feature Importance"
   ]
  },
  {
   "cell_type": "code",
   "execution_count": 62,
   "metadata": {},
   "outputs": [
    {
     "data": {
      "text/plain": [
       "[(0.12116417040932426, 'BMI'),\n",
       " (0.12098110118157161, 'Sedentary Hours Per Day'),\n",
       " (0.12091820279822639, 'Exercise Hours Per Week'),\n",
       " (0.12072594820858777, 'Income'),\n",
       " (0.11762097967944017, 'Triglycerides'),\n",
       " (0.1125417839772562, 'Cholesterol'),\n",
       " (0.10190427974985453, 'Age'),\n",
       " (0.1003301784222226, 'Heart Rate'),\n",
       " (0.060437672182058186, 'Stress Level'),\n",
       " (0.011710498607539862, 'Sex_Female'),\n",
       " (0.01166518478391856, 'Sex_Male')]"
      ]
     },
     "execution_count": 62,
     "metadata": {},
     "output_type": "execute_result"
    }
   ],
   "source": [
    "# Random Forests in sklearn will automatically calculate feature importance\n",
    "importances = rf_model.feature_importances_\n",
    "# We can sort the features by their importance\n",
    "sorted(zip(rf_model.feature_importances_, X.columns), reverse=True)"
   ]
  },
  {
   "cell_type": "code",
   "execution_count": 63,
   "metadata": {},
   "outputs": [
    {
     "data": {
      "text/plain": [
       "<AxesSubplot:title={'center':'Features Importances'}, ylabel='1'>"
      ]
     },
     "execution_count": 63,
     "metadata": {},
     "output_type": "execute_result"
    },
    {
     "data": {
      "image/png": "[encoded data removed]",
      "text/plain": [
       "<Figure size 432x288 with 1 Axes>"
      ]
     },
     "metadata": {
      "needs_background": "light"
     },
     "output_type": "display_data"
    }
   ],
   "source": [
    "# Visualize the features by importance\n",
    "importances_df = pd.DataFrame(sorted(zip(rf_model.feature_importances_, X.columns), reverse=True))\n",
    "importances_df.set_index(importances_df[1], inplace=True)\n",
    "importances_df.drop(columns=1, inplace=True)\n",
    "importances_df.rename(columns={0: 'Feature Importances'}, inplace=True)\n",
    "importances_sorted = importances_df.sort_values(by='Feature Importances')\n",
    "importances_sorted.plot(kind='barh', color='lightgreen', title= 'Features Importances', legend=False)"
   ]
  },
  {
   "cell_type": "markdown",
   "metadata": {},
   "source": [
    "## Deep learning model"
   ]
  },
  {
   "cell_type": "code",
   "execution_count": 100,
   "metadata": {},
   "outputs": [
    {
     "data": {
      "text/plain": [
       "Age                          73\n",
       "Cholesterol                 281\n",
       "Heart Rate                   71\n",
       "Exercise Hours Per Week    8763\n",
       "Stress Level                 10\n",
       "Sedentary Hours Per Day    8763\n",
       "Income                     8615\n",
       "BMI                        8763\n",
       "Triglycerides               771\n",
       "Sex_Female                    2\n",
       "Sex_Male                      2\n",
       "dtype: int64"
      ]
     },
     "execution_count": 100,
     "metadata": {},
     "output_type": "execute_result"
    }
   ],
   "source": [
    "# Import dependencies and determine the number of unique values in each column\n",
    "import tensorflow as tf\n",
    "X.nunique()"
   ]
  },
  {
   "cell_type": "code",
   "execution_count": 101,
   "metadata": {},
   "outputs": [
    {
     "data": {
      "text/plain": [
       "Age                          int64\n",
       "Cholesterol                  int64\n",
       "Heart Rate                   int64\n",
       "Exercise Hours Per Week    float64\n",
       "Stress Level                 int64\n",
       "Sedentary Hours Per Day    float64\n",
       "Income                       int64\n",
       "BMI                        float64\n",
       "Triglycerides                int64\n",
       "Sex_Female                   uint8\n",
       "Sex_Male                     uint8\n",
       "dtype: object"
      ]
     },
     "execution_count": 101,
     "metadata": {},
     "output_type": "execute_result"
    }
   ],
   "source": [
    "X.dtypes"
   ]
  },
  {
   "cell_type": "code",
   "execution_count": null,
   "metadata": {},
   "outputs": [],
   "source": []
  },
  {
   "cell_type": "code",
   "execution_count": 91,
   "metadata": {},
   "outputs": [
    {
     "ename": "TypeError",
     "evalue": "float() argument must be a string or a number, not 'pandas._libs.interval.Interval'",
     "output_type": "error",
     "traceback": [
      "\u001b[1;31m---------------------------------------------------------------------------\u001b[0m",
      "\u001b[1;31mTypeError\u001b[0m                                 Traceback (most recent call last)",
      "Input \u001b[1;32mIn [91]\u001b[0m, in \u001b[0;36m<cell line: 3>\u001b[1;34m()\u001b[0m\n\u001b[0;32m      1\u001b[0m X_train, X_test, y_train, y_test \u001b[38;5;241m=\u001b[39m train_test_split(X, y, random_state\u001b[38;5;241m=\u001b[39m\u001b[38;5;241m3000\u001b[39m)\n\u001b[0;32m      2\u001b[0m scaler \u001b[38;5;241m=\u001b[39m StandardScaler()\n\u001b[1;32m----> 3\u001b[0m X_scaler \u001b[38;5;241m=\u001b[39m \u001b[43mscaler\u001b[49m\u001b[38;5;241;43m.\u001b[39;49m\u001b[43mfit\u001b[49m\u001b[43m(\u001b[49m\u001b[43mX_train\u001b[49m\u001b[43m)\u001b[49m\n\u001b[0;32m      4\u001b[0m X_train_scaled \u001b[38;5;241m=\u001b[39m X_scaler\u001b[38;5;241m.\u001b[39mtransform(X_train)\n\u001b[0;32m      5\u001b[0m X_test_scaled \u001b[38;5;241m=\u001b[39m X_scaler\u001b[38;5;241m.\u001b[39mtransform(X_test)\n",
      "File \u001b[1;32m~\\anaconda3\\lib\\site-packages\\sklearn\\preprocessing\\_data.py:806\u001b[0m, in \u001b[0;36mStandardScaler.fit\u001b[1;34m(self, X, y, sample_weight)\u001b[0m\n\u001b[0;32m    804\u001b[0m \u001b[38;5;66;03m# Reset internal state before fitting\u001b[39;00m\n\u001b[0;32m    805\u001b[0m \u001b[38;5;28mself\u001b[39m\u001b[38;5;241m.\u001b[39m_reset()\n\u001b[1;32m--> 806\u001b[0m \u001b[38;5;28;01mreturn\u001b[39;00m \u001b[38;5;28;43mself\u001b[39;49m\u001b[38;5;241;43m.\u001b[39;49m\u001b[43mpartial_fit\u001b[49m\u001b[43m(\u001b[49m\u001b[43mX\u001b[49m\u001b[43m,\u001b[49m\u001b[43m \u001b[49m\u001b[43my\u001b[49m\u001b[43m,\u001b[49m\u001b[43m \u001b[49m\u001b[43msample_weight\u001b[49m\u001b[43m)\u001b[49m\n",
      "File \u001b[1;32m~\\anaconda3\\lib\\site-packages\\sklearn\\preprocessing\\_data.py:841\u001b[0m, in \u001b[0;36mStandardScaler.partial_fit\u001b[1;34m(self, X, y, sample_weight)\u001b[0m\n\u001b[0;32m    809\u001b[0m \u001b[38;5;124;03m\"\"\"Online computation of mean and std on X for later scaling.\u001b[39;00m\n\u001b[0;32m    810\u001b[0m \n\u001b[0;32m    811\u001b[0m \u001b[38;5;124;03mAll of X is processed as a single batch. This is intended for cases\u001b[39;00m\n\u001b[1;32m   (...)\u001b[0m\n\u001b[0;32m    838\u001b[0m \u001b[38;5;124;03m    Fitted scaler.\u001b[39;00m\n\u001b[0;32m    839\u001b[0m \u001b[38;5;124;03m\"\"\"\u001b[39;00m\n\u001b[0;32m    840\u001b[0m first_call \u001b[38;5;241m=\u001b[39m \u001b[38;5;129;01mnot\u001b[39;00m \u001b[38;5;28mhasattr\u001b[39m(\u001b[38;5;28mself\u001b[39m, \u001b[38;5;124m\"\u001b[39m\u001b[38;5;124mn_samples_seen_\u001b[39m\u001b[38;5;124m\"\u001b[39m)\n\u001b[1;32m--> 841\u001b[0m X \u001b[38;5;241m=\u001b[39m \u001b[38;5;28;43mself\u001b[39;49m\u001b[38;5;241;43m.\u001b[39;49m\u001b[43m_validate_data\u001b[49m\u001b[43m(\u001b[49m\n\u001b[0;32m    842\u001b[0m \u001b[43m    \u001b[49m\u001b[43mX\u001b[49m\u001b[43m,\u001b[49m\n\u001b[0;32m    843\u001b[0m \u001b[43m    \u001b[49m\u001b[43maccept_sparse\u001b[49m\u001b[38;5;241;43m=\u001b[39;49m\u001b[43m(\u001b[49m\u001b[38;5;124;43m\"\u001b[39;49m\u001b[38;5;124;43mcsr\u001b[39;49m\u001b[38;5;124;43m\"\u001b[39;49m\u001b[43m,\u001b[49m\u001b[43m \u001b[49m\u001b[38;5;124;43m\"\u001b[39;49m\u001b[38;5;124;43mcsc\u001b[39;49m\u001b[38;5;124;43m\"\u001b[39;49m\u001b[43m)\u001b[49m\u001b[43m,\u001b[49m\n\u001b[0;32m    844\u001b[0m \u001b[43m    \u001b[49m\u001b[43mestimator\u001b[49m\u001b[38;5;241;43m=\u001b[39;49m\u001b[38;5;28;43mself\u001b[39;49m\u001b[43m,\u001b[49m\n\u001b[0;32m    845\u001b[0m \u001b[43m    \u001b[49m\u001b[43mdtype\u001b[49m\u001b[38;5;241;43m=\u001b[39;49m\u001b[43mFLOAT_DTYPES\u001b[49m\u001b[43m,\u001b[49m\n\u001b[0;32m    846\u001b[0m \u001b[43m    \u001b[49m\u001b[43mforce_all_finite\u001b[49m\u001b[38;5;241;43m=\u001b[39;49m\u001b[38;5;124;43m\"\u001b[39;49m\u001b[38;5;124;43mallow-nan\u001b[39;49m\u001b[38;5;124;43m\"\u001b[39;49m\u001b[43m,\u001b[49m\n\u001b[0;32m    847\u001b[0m \u001b[43m    \u001b[49m\u001b[43mreset\u001b[49m\u001b[38;5;241;43m=\u001b[39;49m\u001b[43mfirst_call\u001b[49m\u001b[43m,\u001b[49m\n\u001b[0;32m    848\u001b[0m \u001b[43m\u001b[49m\u001b[43m)\u001b[49m\n\u001b[0;32m    849\u001b[0m n_features \u001b[38;5;241m=\u001b[39m X\u001b[38;5;241m.\u001b[39mshape[\u001b[38;5;241m1\u001b[39m]\n\u001b[0;32m    851\u001b[0m \u001b[38;5;28;01mif\u001b[39;00m sample_weight \u001b[38;5;129;01mis\u001b[39;00m \u001b[38;5;129;01mnot\u001b[39;00m \u001b[38;5;28;01mNone\u001b[39;00m:\n",
      "File \u001b[1;32m~\\anaconda3\\lib\\site-packages\\sklearn\\base.py:566\u001b[0m, in \u001b[0;36mBaseEstimator._validate_data\u001b[1;34m(self, X, y, reset, validate_separately, **check_params)\u001b[0m\n\u001b[0;32m    564\u001b[0m     \u001b[38;5;28;01mraise\u001b[39;00m \u001b[38;5;167;01mValueError\u001b[39;00m(\u001b[38;5;124m\"\u001b[39m\u001b[38;5;124mValidation should be done on X, y or both.\u001b[39m\u001b[38;5;124m\"\u001b[39m)\n\u001b[0;32m    565\u001b[0m \u001b[38;5;28;01melif\u001b[39;00m \u001b[38;5;129;01mnot\u001b[39;00m no_val_X \u001b[38;5;129;01mand\u001b[39;00m no_val_y:\n\u001b[1;32m--> 566\u001b[0m     X \u001b[38;5;241m=\u001b[39m check_array(X, \u001b[38;5;241m*\u001b[39m\u001b[38;5;241m*\u001b[39mcheck_params)\n\u001b[0;32m    567\u001b[0m     out \u001b[38;5;241m=\u001b[39m X\n\u001b[0;32m    568\u001b[0m \u001b[38;5;28;01melif\u001b[39;00m no_val_X \u001b[38;5;129;01mand\u001b[39;00m \u001b[38;5;129;01mnot\u001b[39;00m no_val_y:\n",
      "File \u001b[1;32m~\\anaconda3\\lib\\site-packages\\sklearn\\utils\\validation.py:746\u001b[0m, in \u001b[0;36mcheck_array\u001b[1;34m(array, accept_sparse, accept_large_sparse, dtype, order, copy, force_all_finite, ensure_2d, allow_nd, ensure_min_samples, ensure_min_features, estimator)\u001b[0m\n\u001b[0;32m    744\u001b[0m         array \u001b[38;5;241m=\u001b[39m array\u001b[38;5;241m.\u001b[39mastype(dtype, casting\u001b[38;5;241m=\u001b[39m\u001b[38;5;124m\"\u001b[39m\u001b[38;5;124munsafe\u001b[39m\u001b[38;5;124m\"\u001b[39m, copy\u001b[38;5;241m=\u001b[39m\u001b[38;5;28;01mFalse\u001b[39;00m)\n\u001b[0;32m    745\u001b[0m     \u001b[38;5;28;01melse\u001b[39;00m:\n\u001b[1;32m--> 746\u001b[0m         array \u001b[38;5;241m=\u001b[39m \u001b[43mnp\u001b[49m\u001b[38;5;241;43m.\u001b[39;49m\u001b[43masarray\u001b[49m\u001b[43m(\u001b[49m\u001b[43marray\u001b[49m\u001b[43m,\u001b[49m\u001b[43m \u001b[49m\u001b[43morder\u001b[49m\u001b[38;5;241;43m=\u001b[39;49m\u001b[43morder\u001b[49m\u001b[43m,\u001b[49m\u001b[43m \u001b[49m\u001b[43mdtype\u001b[49m\u001b[38;5;241;43m=\u001b[39;49m\u001b[43mdtype\u001b[49m\u001b[43m)\u001b[49m\n\u001b[0;32m    747\u001b[0m \u001b[38;5;28;01mexcept\u001b[39;00m ComplexWarning \u001b[38;5;28;01mas\u001b[39;00m complex_warning:\n\u001b[0;32m    748\u001b[0m     \u001b[38;5;28;01mraise\u001b[39;00m \u001b[38;5;167;01mValueError\u001b[39;00m(\n\u001b[0;32m    749\u001b[0m         \u001b[38;5;124m\"\u001b[39m\u001b[38;5;124mComplex data not supported\u001b[39m\u001b[38;5;130;01m\\n\u001b[39;00m\u001b[38;5;132;01m{}\u001b[39;00m\u001b[38;5;130;01m\\n\u001b[39;00m\u001b[38;5;124m\"\u001b[39m\u001b[38;5;241m.\u001b[39mformat(array)\n\u001b[0;32m    750\u001b[0m     ) \u001b[38;5;28;01mfrom\u001b[39;00m \u001b[38;5;21;01mcomplex_warning\u001b[39;00m\n",
      "File \u001b[1;32m~\\anaconda3\\lib\\site-packages\\pandas\\core\\generic.py:2064\u001b[0m, in \u001b[0;36mNDFrame.__array__\u001b[1;34m(self, dtype)\u001b[0m\n\u001b[0;32m   2063\u001b[0m \u001b[38;5;28;01mdef\u001b[39;00m \u001b[38;5;21m__array__\u001b[39m(\u001b[38;5;28mself\u001b[39m, dtype: npt\u001b[38;5;241m.\u001b[39mDTypeLike \u001b[38;5;241m|\u001b[39m \u001b[38;5;28;01mNone\u001b[39;00m \u001b[38;5;241m=\u001b[39m \u001b[38;5;28;01mNone\u001b[39;00m) \u001b[38;5;241m-\u001b[39m\u001b[38;5;241m>\u001b[39m np\u001b[38;5;241m.\u001b[39mndarray:\n\u001b[1;32m-> 2064\u001b[0m     \u001b[38;5;28;01mreturn\u001b[39;00m \u001b[43mnp\u001b[49m\u001b[38;5;241;43m.\u001b[39;49m\u001b[43masarray\u001b[49m\u001b[43m(\u001b[49m\u001b[38;5;28;43mself\u001b[39;49m\u001b[38;5;241;43m.\u001b[39;49m\u001b[43m_values\u001b[49m\u001b[43m,\u001b[49m\u001b[43m \u001b[49m\u001b[43mdtype\u001b[49m\u001b[38;5;241;43m=\u001b[39;49m\u001b[43mdtype\u001b[49m\u001b[43m)\u001b[49m\n",
      "\u001b[1;31mTypeError\u001b[0m: float() argument must be a string or a number, not 'pandas._libs.interval.Interval'"
     ]
    }
   ],
   "source": [
    "X_train, X_test, y_train, y_test = train_test_split(X, y, random_state=3000)\n",
    "scaler = StandardScaler()\n",
    "X_scaler = scaler.fit(X_train)\n",
    "X_train_scaled = X_scaler.transform(X_train)\n",
    "X_test_scaled = X_scaler.transform(X_test)"
   ]
  },
  {
   "cell_type": "code",
   "execution_count": 77,
   "metadata": {},
   "outputs": [
    {
     "name": "stdout",
     "output_type": "stream",
     "text": [
      "Model: \"sequential_5\"\n",
      "_________________________________________________________________\n",
      " Layer (type)                Output Shape              Param #   \n",
      "=================================================================\n",
      " dense_12 (Dense)            (None, 16)                192       \n",
      "                                                                 \n",
      " dense_13 (Dense)            (None, 16)                272       \n",
      "                                                                 \n",
      " dense_14 (Dense)            (None, 1)                 17        \n",
      "                                                                 \n",
      "=================================================================\n",
      "Total params: 481 (1.88 KB)\n",
      "Trainable params: 481 (1.88 KB)\n",
      "Non-trainable params: 0 (0.00 Byte)\n",
      "_________________________________________________________________\n"
     ]
    }
   ],
   "source": [
    "# Define the model - deep neural net, i.e., the number of input features and hidden nodes for each layer.\n",
    "nn = tf.keras.models.Sequential()\n",
    "\n",
    "# First hidden layer\n",
    "nn.add(tf.keras.layers.Dense(units=16, activation=\"relu\", input_dim=11))\n",
    "\n",
    "# Second hidden layer\n",
    "nn.add(tf.keras.layers.Dense(units=16, activation=\"relu\"))\n",
    "\n",
    "# Output layer\n",
    "nn.add(tf.keras.layers.Dense(units=1, activation=\"sigmoid\"))\n",
    "\n",
    "# Check the structure of the model\n",
    "nn.summary()"
   ]
  },
  {
   "cell_type": "code",
   "execution_count": 78,
   "metadata": {},
   "outputs": [],
   "source": [
    "nn.compile(loss=\"binary_crossentropy\", optimizer=\"adam\", metrics=[\"accuracy\"])"
   ]
  },
  {
   "cell_type": "code",
   "execution_count": 79,
   "metadata": {},
   "outputs": [
    {
     "name": "stdout",
     "output_type": "stream",
     "text": [
      "Epoch 1/100\n",
      "WARNING:tensorflow:From C:\\Users\\Oormi\\anaconda3\\lib\\site-packages\\keras\\src\\utils\\tf_utils.py:492: The name tf.ragged.RaggedTensorValue is deprecated. Please use tf.compat.v1.ragged.RaggedTensorValue instead.\n",
      "\n",
      "WARNING:tensorflow:From C:\\Users\\Oormi\\anaconda3\\lib\\site-packages\\keras\\src\\engine\\base_layer_utils.py:384: The name tf.executing_eagerly_outside_functions is deprecated. Please use tf.compat.v1.executing_eagerly_outside_functions instead.\n",
      "\n",
      "206/206 [==============================] - 1s 2ms/step - loss: 0.6672 - accuracy: 0.6342\n",
      "Epoch 2/100\n",
      "206/206 [==============================] - 0s 2ms/step - loss: 0.6568 - accuracy: 0.6398\n",
      "Epoch 3/100\n",
      "206/206 [==============================] - 0s 1ms/step - loss: 0.6536 - accuracy: 0.6398\n",
      "Epoch 4/100\n",
      "206/206 [==============================] - 0s 1ms/step - loss: 0.6522 - accuracy: 0.6398\n",
      "Epoch 5/100\n",
      "206/206 [==============================] - 0s 1ms/step - loss: 0.6508 - accuracy: 0.6398\n",
      "Epoch 6/100\n",
      "206/206 [==============================] - 0s 1ms/step - loss: 0.6495 - accuracy: 0.6398\n",
      "Epoch 7/100\n",
      "206/206 [==============================] - 0s 1ms/step - loss: 0.6487 - accuracy: 0.6398\n",
      "Epoch 8/100\n",
      "206/206 [==============================] - 0s 1ms/step - loss: 0.6478 - accuracy: 0.6400\n",
      "Epoch 9/100\n",
      "206/206 [==============================] - 0s 1ms/step - loss: 0.6472 - accuracy: 0.6398\n",
      "Epoch 10/100\n",
      "206/206 [==============================] - 0s 1ms/step - loss: 0.6468 - accuracy: 0.6398\n",
      "Epoch 11/100\n",
      "206/206 [==============================] - 0s 1ms/step - loss: 0.6462 - accuracy: 0.6397\n",
      "Epoch 12/100\n",
      "206/206 [==============================] - 0s 1ms/step - loss: 0.6457 - accuracy: 0.6397\n",
      "Epoch 13/100\n",
      "206/206 [==============================] - 0s 2ms/step - loss: 0.6450 - accuracy: 0.6394\n",
      "Epoch 14/100\n",
      "206/206 [==============================] - 0s 1ms/step - loss: 0.6448 - accuracy: 0.6395\n",
      "Epoch 15/100\n",
      "206/206 [==============================] - 0s 1ms/step - loss: 0.6442 - accuracy: 0.6403\n",
      "Epoch 16/100\n",
      "206/206 [==============================] - 0s 2ms/step - loss: 0.6438 - accuracy: 0.6406\n",
      "Epoch 17/100\n",
      "206/206 [==============================] - 0s 1ms/step - loss: 0.6438 - accuracy: 0.6406\n",
      "Epoch 18/100\n",
      "206/206 [==============================] - 0s 1ms/step - loss: 0.6430 - accuracy: 0.6397\n",
      "Epoch 19/100\n",
      "206/206 [==============================] - 0s 2ms/step - loss: 0.6423 - accuracy: 0.6400\n",
      "Epoch 20/100\n",
      "206/206 [==============================] - 0s 1ms/step - loss: 0.6420 - accuracy: 0.6406\n",
      "Epoch 21/100\n",
      "206/206 [==============================] - 0s 1ms/step - loss: 0.6417 - accuracy: 0.6415\n",
      "Epoch 22/100\n",
      "206/206 [==============================] - 0s 2ms/step - loss: 0.6413 - accuracy: 0.6412\n",
      "Epoch 23/100\n",
      "206/206 [==============================] - 0s 1ms/step - loss: 0.6407 - accuracy: 0.6414\n",
      "Epoch 24/100\n",
      "206/206 [==============================] - 0s 1ms/step - loss: 0.6402 - accuracy: 0.6412\n",
      "Epoch 25/100\n",
      "206/206 [==============================] - 0s 1ms/step - loss: 0.6394 - accuracy: 0.6401\n",
      "Epoch 26/100\n",
      "206/206 [==============================] - 0s 1ms/step - loss: 0.6394 - accuracy: 0.6432\n",
      "Epoch 27/100\n",
      "206/206 [==============================] - 0s 1ms/step - loss: 0.6391 - accuracy: 0.6427\n",
      "Epoch 28/100\n",
      "206/206 [==============================] - 0s 1ms/step - loss: 0.6384 - accuracy: 0.6439\n",
      "Epoch 29/100\n",
      "206/206 [==============================] - 0s 1ms/step - loss: 0.6377 - accuracy: 0.6429\n",
      "Epoch 30/100\n",
      "206/206 [==============================] - 0s 1ms/step - loss: 0.6370 - accuracy: 0.6438\n",
      "Epoch 31/100\n",
      "206/206 [==============================] - 0s 1ms/step - loss: 0.6366 - accuracy: 0.6464\n",
      "Epoch 32/100\n",
      "206/206 [==============================] - 0s 1ms/step - loss: 0.6361 - accuracy: 0.6436\n",
      "Epoch 33/100\n",
      "206/206 [==============================] - 0s 1ms/step - loss: 0.6357 - accuracy: 0.6455\n",
      "Epoch 34/100\n",
      "206/206 [==============================] - 0s 1ms/step - loss: 0.6354 - accuracy: 0.6453\n",
      "Epoch 35/100\n",
      "206/206 [==============================] - 0s 1ms/step - loss: 0.6348 - accuracy: 0.6462\n",
      "Epoch 36/100\n",
      "206/206 [==============================] - 0s 1ms/step - loss: 0.6344 - accuracy: 0.6461\n",
      "Epoch 37/100\n",
      "206/206 [==============================] - 0s 1ms/step - loss: 0.6342 - accuracy: 0.6449\n",
      "Epoch 38/100\n",
      "206/206 [==============================] - 0s 1ms/step - loss: 0.6335 - accuracy: 0.6461\n",
      "Epoch 39/100\n",
      "206/206 [==============================] - 0s 1ms/step - loss: 0.6331 - accuracy: 0.6455\n",
      "Epoch 40/100\n",
      "206/206 [==============================] - 0s 2ms/step - loss: 0.6329 - accuracy: 0.6446\n",
      "Epoch 41/100\n",
      "206/206 [==============================] - 0s 1ms/step - loss: 0.6324 - accuracy: 0.6447\n",
      "Epoch 42/100\n",
      "206/206 [==============================] - 0s 1ms/step - loss: 0.6321 - accuracy: 0.6456\n",
      "Epoch 43/100\n",
      "206/206 [==============================] - 0s 2ms/step - loss: 0.6318 - accuracy: 0.6465\n",
      "Epoch 44/100\n",
      "206/206 [==============================] - 0s 2ms/step - loss: 0.6313 - accuracy: 0.6455\n",
      "Epoch 45/100\n",
      "206/206 [==============================] - 0s 1ms/step - loss: 0.6305 - accuracy: 0.6479\n",
      "Epoch 46/100\n",
      "206/206 [==============================] - 0s 2ms/step - loss: 0.6307 - accuracy: 0.6487\n",
      "Epoch 47/100\n",
      "206/206 [==============================] - 0s 1ms/step - loss: 0.6304 - accuracy: 0.6482\n",
      "Epoch 48/100\n",
      "206/206 [==============================] - 0s 1ms/step - loss: 0.6303 - accuracy: 0.6496\n",
      "Epoch 49/100\n",
      "206/206 [==============================] - 0s 1ms/step - loss: 0.6293 - accuracy: 0.6479\n",
      "Epoch 50/100\n",
      "206/206 [==============================] - 0s 1ms/step - loss: 0.6295 - accuracy: 0.6481\n",
      "Epoch 51/100\n",
      "206/206 [==============================] - 0s 1ms/step - loss: 0.6289 - accuracy: 0.6506\n",
      "Epoch 52/100\n",
      "206/206 [==============================] - 0s 1ms/step - loss: 0.6288 - accuracy: 0.6499\n",
      "Epoch 53/100\n",
      "206/206 [==============================] - 0s 2ms/step - loss: 0.6285 - accuracy: 0.6508\n",
      "Epoch 54/100\n",
      "206/206 [==============================] - 0s 1ms/step - loss: 0.6281 - accuracy: 0.6499\n",
      "Epoch 55/100\n",
      "206/206 [==============================] - 0s 2ms/step - loss: 0.6281 - accuracy: 0.6494\n",
      "Epoch 56/100\n",
      "206/206 [==============================] - 0s 1ms/step - loss: 0.6275 - accuracy: 0.6512\n",
      "Epoch 57/100\n",
      "206/206 [==============================] - 0s 1ms/step - loss: 0.6276 - accuracy: 0.6496\n",
      "Epoch 58/100\n",
      "206/206 [==============================] - 0s 1ms/step - loss: 0.6273 - accuracy: 0.6525\n",
      "Epoch 59/100\n",
      "206/206 [==============================] - 0s 2ms/step - loss: 0.6267 - accuracy: 0.6516\n",
      "Epoch 60/100\n",
      "206/206 [==============================] - 0s 2ms/step - loss: 0.6268 - accuracy: 0.6496\n",
      "Epoch 61/100\n",
      "206/206 [==============================] - 0s 2ms/step - loss: 0.6263 - accuracy: 0.6509\n",
      "Epoch 62/100\n",
      "206/206 [==============================] - 0s 2ms/step - loss: 0.6261 - accuracy: 0.6523\n",
      "Epoch 63/100\n",
      "206/206 [==============================] - 0s 2ms/step - loss: 0.6261 - accuracy: 0.6502\n",
      "Epoch 64/100\n",
      "206/206 [==============================] - 0s 2ms/step - loss: 0.6257 - accuracy: 0.6509\n",
      "Epoch 65/100\n",
      "206/206 [==============================] - 0s 1ms/step - loss: 0.6255 - accuracy: 0.6512\n",
      "Epoch 66/100\n",
      "206/206 [==============================] - 0s 2ms/step - loss: 0.6254 - accuracy: 0.6529\n",
      "Epoch 67/100\n",
      "206/206 [==============================] - 0s 1ms/step - loss: 0.6245 - accuracy: 0.6552\n",
      "Epoch 68/100\n",
      "206/206 [==============================] - 0s 2ms/step - loss: 0.6257 - accuracy: 0.6516\n",
      "Epoch 69/100\n",
      "206/206 [==============================] - 0s 1ms/step - loss: 0.6251 - accuracy: 0.6522\n",
      "Epoch 70/100\n",
      "206/206 [==============================] - 0s 2ms/step - loss: 0.6242 - accuracy: 0.6544\n",
      "Epoch 71/100\n",
      "206/206 [==============================] - 0s 1ms/step - loss: 0.6241 - accuracy: 0.6506\n",
      "Epoch 72/100\n",
      "206/206 [==============================] - 0s 1ms/step - loss: 0.6241 - accuracy: 0.6520\n",
      "Epoch 73/100\n",
      "206/206 [==============================] - 0s 1ms/step - loss: 0.6236 - accuracy: 0.6549\n",
      "Epoch 74/100\n",
      "206/206 [==============================] - 0s 1ms/step - loss: 0.6236 - accuracy: 0.6537\n",
      "Epoch 75/100\n",
      "206/206 [==============================] - 0s 1ms/step - loss: 0.6233 - accuracy: 0.6543\n",
      "Epoch 76/100\n",
      "206/206 [==============================] - 0s 1ms/step - loss: 0.6234 - accuracy: 0.6526\n"
     ]
    },
    {
     "name": "stdout",
     "output_type": "stream",
     "text": [
      "Epoch 77/100\n",
      "206/206 [==============================] - 0s 1ms/step - loss: 0.6228 - accuracy: 0.6535\n",
      "Epoch 78/100\n",
      "206/206 [==============================] - 0s 1ms/step - loss: 0.6230 - accuracy: 0.6517\n",
      "Epoch 79/100\n",
      "206/206 [==============================] - 0s 1ms/step - loss: 0.6224 - accuracy: 0.6519\n",
      "Epoch 80/100\n",
      "206/206 [==============================] - 0s 1ms/step - loss: 0.6221 - accuracy: 0.6531\n",
      "Epoch 81/100\n",
      "206/206 [==============================] - 0s 1ms/step - loss: 0.6225 - accuracy: 0.6512\n",
      "Epoch 82/100\n",
      "206/206 [==============================] - 0s 1ms/step - loss: 0.6221 - accuracy: 0.6520\n",
      "Epoch 83/100\n",
      "206/206 [==============================] - 0s 1ms/step - loss: 0.6220 - accuracy: 0.6572\n",
      "Epoch 84/100\n",
      "206/206 [==============================] - 0s 1ms/step - loss: 0.6214 - accuracy: 0.6546\n",
      "Epoch 85/100\n",
      "206/206 [==============================] - 0s 1ms/step - loss: 0.6217 - accuracy: 0.6534\n",
      "Epoch 86/100\n",
      "206/206 [==============================] - 0s 1ms/step - loss: 0.6218 - accuracy: 0.6532\n",
      "Epoch 87/100\n",
      "206/206 [==============================] - 0s 1ms/step - loss: 0.6215 - accuracy: 0.6554\n",
      "Epoch 88/100\n",
      "206/206 [==============================] - 0s 1ms/step - loss: 0.6213 - accuracy: 0.6517\n",
      "Epoch 89/100\n",
      "206/206 [==============================] - 0s 1ms/step - loss: 0.6206 - accuracy: 0.6537\n",
      "Epoch 90/100\n",
      "206/206 [==============================] - 0s 1ms/step - loss: 0.6207 - accuracy: 0.6569\n",
      "Epoch 91/100\n",
      "206/206 [==============================] - 0s 1ms/step - loss: 0.6203 - accuracy: 0.6544\n",
      "Epoch 92/100\n",
      "206/206 [==============================] - 0s 1ms/step - loss: 0.6211 - accuracy: 0.6525\n",
      "Epoch 93/100\n",
      "206/206 [==============================] - 0s 1ms/step - loss: 0.6201 - accuracy: 0.6549\n",
      "Epoch 94/100\n",
      "206/206 [==============================] - 0s 1ms/step - loss: 0.6200 - accuracy: 0.6557\n",
      "Epoch 95/100\n",
      "206/206 [==============================] - 0s 1ms/step - loss: 0.6198 - accuracy: 0.6509\n",
      "Epoch 96/100\n",
      "206/206 [==============================] - 0s 1ms/step - loss: 0.6200 - accuracy: 0.6546\n",
      "Epoch 97/100\n",
      "206/206 [==============================] - 0s 1ms/step - loss: 0.6197 - accuracy: 0.6543\n",
      "Epoch 98/100\n",
      "206/206 [==============================] - 0s 1ms/step - loss: 0.6198 - accuracy: 0.6549\n",
      "Epoch 99/100\n",
      "206/206 [==============================] - 0s 1ms/step - loss: 0.6194 - accuracy: 0.6537\n",
      "Epoch 100/100\n",
      "206/206 [==============================] - 0s 1ms/step - loss: 0.6193 - accuracy: 0.6584\n"
     ]
    }
   ],
   "source": [
    "fit_model = nn.fit(X_train_scaled, y_train, epochs=100)"
   ]
  },
  {
   "cell_type": "code",
   "execution_count": 80,
   "metadata": {},
   "outputs": [
    {
     "name": "stdout",
     "output_type": "stream",
     "text": [
      "69/69 - 0s - loss: 0.6821 - accuracy: 0.6089 - 225ms/epoch - 3ms/step\n",
      "Loss: 0.6820921301841736, Accuracy: 0.6088544130325317\n"
     ]
    }
   ],
   "source": [
    "model_loss, model_accuracy = nn.evaluate(X_test_scaled,y_test,verbose=2)\n",
    "print(f\"Loss: {model_loss}, Accuracy: {model_accuracy}\")"
   ]
  },
  {
   "cell_type": "code",
   "execution_count": null,
   "metadata": {},
   "outputs": [],
   "source": []
  }
 ],
 "metadata": {
  "file_extension": ".py",
  "kernelspec": {
   "display_name": "Python 3 (ipykernel)",
   "language": "python",
   "name": "python3"
  },
  "language_info": {
   "codemirror_mode": {
    "name": "ipython",
    "version": 3
   },
   "file_extension": ".py",
   "mimetype": "text/x-python",
   "name": "python",
   "nbconvert_exporter": "python",
   "pygments_lexer": "ipython3",
   "version": "3.9.12"
  },
  "mimetype": "text/x-python",
  "name": "python",
  "npconvert_exporter": "python",
  "pygments_lexer": "ipython3",
  "version": 3
 },
 "nbformat": 4,
 "nbformat_minor": 4
}
